{
 "cells": [
  {
   "cell_type": "code",
   "execution_count": 4,
   "metadata": {},
   "outputs": [],
   "source": [
    "#import necessary packages\n",
    "import pandas as pd\n",
    "import numpy as np\n",
    "import matplotlib.pyplot as plt\n",
    "import requests\n",
    "import tweepy\n",
    "import json\n",
    "import time\n",
    "import re\n",
    "import warnings\n",
    "from wordcloud import WordCloud, STOPWORDS, ImageColorGenerator\n",
    "import seaborn as sns\n",
    "%matplotlib inline"
   ]
  },
  {
   "cell_type": "code",
   "execution_count": 35,
   "metadata": {},
   "outputs": [],
   "source": [
    "#read in the twitter_archive .csv file into a DataFrame\n",
    "twitter_archive = pd.read_csv('twitter-archive-enhanced.csv')"
   ]
  },
  {
   "cell_type": "code",
   "execution_count": 36,
   "metadata": {},
   "outputs": [],
   "source": [
    "#load the image-predictions .txt file using requests and read in as a .csv file into a DataFrame\n",
    "url = 'https://d17h27t6h515a5.cloudfront.net/topher/2017/August/599fd2ad_image-predictions/image-predictions.tsv'\n",
    "\n",
    "r = requests.get(url)\n",
    "with open('image-predictions.tsv', 'wb') as f:\n",
    "    f.write(r.content)\n",
    "    \n",
    "image_predictions = pd.read_csv('image-predictions.tsv', sep = '\\t')\n",
    "    "
   ]
  },
  {
   "cell_type": "code",
   "execution_count": 37,
   "metadata": {},
   "outputs": [],
   "source": [
    "#enter keys from Twitter API and access the API\n",
    "consumer_key = 'dmwlhkv5qK9Sua7LqEGpURv3o'\n",
    "consumer_secret = 'v1Dzy3WQtSezcfJNq3v5VTuh4JLd2fokP5qLrKgn7HjepNyBM4'\n",
    "access_token = '1313559780724748296-JqOOnALnt2JZEAngSON5t6g9hu9ZKY'\n",
    "access_secret = 'r9D09ujKjSWSsTuHgE9s93ifWLVe7TGl0XBuuhjkph9ZY'\n",
    "\n",
    "auth = tweepy.OAuthHandler(consumer_key, consumer_secret)\n",
    "auth.set_access_token(access_token, access_secret)\n",
    "\n",
    "api = tweepy.API(auth)"
   ]
  },
  {
   "cell_type": "code",
   "execution_count": 38,
   "metadata": {},
   "outputs": [
    {
     "name": "stdout",
     "output_type": "stream",
     "text": [
      "888202515573088257_[{'code': 144, 'message': 'No status found with that ID.'}]\n",
      "873697596434513921_[{'code': 144, 'message': 'No status found with that ID.'}]\n",
      "872668790621863937_[{'code': 144, 'message': 'No status found with that ID.'}]\n",
      "872261713294495745_[{'code': 144, 'message': 'No status found with that ID.'}]\n",
      "869988702071779329_[{'code': 144, 'message': 'No status found with that ID.'}]\n",
      "866816280283807744_[{'code': 144, 'message': 'No status found with that ID.'}]\n",
      "861769973181624320_[{'code': 144, 'message': 'No status found with that ID.'}]\n",
      "856602993587888130_[{'code': 144, 'message': 'No status found with that ID.'}]\n",
      "851953902622658560_[{'code': 144, 'message': 'No status found with that ID.'}]\n",
      "845459076796616705_[{'code': 144, 'message': 'No status found with that ID.'}]\n",
      "844704788403113984_[{'code': 144, 'message': 'No status found with that ID.'}]\n",
      "842892208864923648_[{'code': 144, 'message': 'No status found with that ID.'}]\n",
      "837366284874571778_[{'code': 144, 'message': 'No status found with that ID.'}]\n",
      "837012587749474308_[{'code': 144, 'message': 'No status found with that ID.'}]\n",
      "829374341691346946_[{'code': 144, 'message': 'No status found with that ID.'}]\n",
      "827228250799742977_[{'code': 144, 'message': 'No status found with that ID.'}]\n",
      "812747805718642688_[{'code': 144, 'message': 'No status found with that ID.'}]\n",
      "802247111496568832_[{'code': 144, 'message': 'No status found with that ID.'}]\n",
      "779123168116150273_[{'code': 144, 'message': 'No status found with that ID.'}]\n",
      "775096608509886464_[{'code': 144, 'message': 'No status found with that ID.'}]\n",
      "771004394259247104_[{'code': 179, 'message': 'Sorry, you are not authorized to see this status.'}]\n",
      "770743923962707968_[{'code': 144, 'message': 'No status found with that ID.'}]\n",
      "759566828574212096_[{'code': 144, 'message': 'No status found with that ID.'}]\n"
     ]
    },
    {
     "name": "stderr",
     "output_type": "stream",
     "text": [
      "Rate limit reached. Sleeping for: 715\n"
     ]
    },
    {
     "name": "stdout",
     "output_type": "stream",
     "text": [
      "754011816964026368_[{'code': 144, 'message': 'No status found with that ID.'}]\n",
      "680055455951884288_[{'code': 144, 'message': 'No status found with that ID.'}]\n"
     ]
    },
    {
     "name": "stderr",
     "output_type": "stream",
     "text": [
      "Rate limit reached. Sleeping for: 715\n"
     ]
    },
    {
     "name": "stdout",
     "output_type": "stream",
     "text": [
      "1924.6315703392029\n"
     ]
    }
   ],
   "source": [
    "#load in the retweet_count, favorite_count, and date_time from the Twitter API as a JSON file\n",
    "df_list = []\n",
    "errors_list = []\n",
    "\n",
    "start = time.time()\n",
    "\n",
    "for tweet_id in twitter_archive['tweet_id']:\n",
    "    try:\n",
    "        tweet =  api.get_status(tweet_id, tweet_mode = 'extended', wait_on_rate_limit = True, wait_on_rate_limit_notify = True)._json\n",
    "        retweets = tweet['retweet_count']\n",
    "        favorites = tweet['favorite_count']\n",
    "        date_time = tweet['created_at']\n",
    "        df_list.append({'tweet_id': int(tweet_id), 'favorites': int(favorites), 'retweets':int(retweets), 'date_time': pd.to_datetime(date_time)})\n",
    "    \n",
    "    except Exception as e:\n",
    "        print(str(tweet_id)+ '_' + str(e))\n",
    "        errors_list.append(tweet_id)\n",
    "        \n",
    "end = time.time()\n",
    "\n",
    "duration = end - start #get the time it took to process\n",
    "\n",
    "print(duration)\n",
    "\n"
   ]
  },
  {
   "cell_type": "code",
   "execution_count": 39,
   "metadata": {},
   "outputs": [
    {
     "name": "stdout",
     "output_type": "stream",
     "text": [
      "number of successful tweets: 2331\n",
      "number of errors: 25\n",
      "process duration 32.07719283898671 minutes\n"
     ]
    }
   ],
   "source": [
    "#print how many successful tweets and errors were pulled, as well as how long it took to do so\n",
    "print('number of successful tweets:', len(df_list))\n",
    "print('number of errors:', len(errors_list))\n",
    "print('process duration', duration/60, 'minutes')"
   ]
  },
  {
   "cell_type": "code",
   "execution_count": 40,
   "metadata": {},
   "outputs": [],
   "source": [
    "#read the JSON file into a DataFrame and also save as a .csv file\n",
    "tweet_json = pd.DataFrame(df_list, columns = ['tweet_id','favorites','retweets','date_time'])\n",
    "tweet_json.to_csv('tweet_json.csv', index = False)"
   ]
  },
  {
   "cell_type": "code",
   "execution_count": 41,
   "metadata": {},
   "outputs": [],
   "source": [
    "#Re-read in the .csv file\n",
    "tweet_df = pd.read_csv('tweet_json.csv')"
   ]
  },
  {
   "cell_type": "markdown",
   "metadata": {},
   "source": [
    "**Assess Visually (I also used the .csv file and loading them into Excel to find other issues not listed here)**"
   ]
  },
  {
   "cell_type": "code",
   "execution_count": 42,
   "metadata": {},
   "outputs": [
    {
     "data": {
      "text/html": [
       "<div>\n",
       "<style scoped>\n",
       "    .dataframe tbody tr th:only-of-type {\n",
       "        vertical-align: middle;\n",
       "    }\n",
       "\n",
       "    .dataframe tbody tr th {\n",
       "        vertical-align: top;\n",
       "    }\n",
       "\n",
       "    .dataframe thead th {\n",
       "        text-align: right;\n",
       "    }\n",
       "</style>\n",
       "<table border=\"1\" class=\"dataframe\">\n",
       "  <thead>\n",
       "    <tr style=\"text-align: right;\">\n",
       "      <th></th>\n",
       "      <th>tweet_id</th>\n",
       "      <th>favorites</th>\n",
       "      <th>retweets</th>\n",
       "      <th>date_time</th>\n",
       "    </tr>\n",
       "  </thead>\n",
       "  <tbody>\n",
       "    <tr>\n",
       "      <th>1370</th>\n",
       "      <td>700002074055016451</td>\n",
       "      <td>3236</td>\n",
       "      <td>1305</td>\n",
       "      <td>2016-02-17 17:01:14+00:00</td>\n",
       "    </tr>\n",
       "    <tr>\n",
       "      <th>1020</th>\n",
       "      <td>743609206067040256</td>\n",
       "      <td>4390</td>\n",
       "      <td>1354</td>\n",
       "      <td>2016-06-17 01:00:24+00:00</td>\n",
       "    </tr>\n",
       "    <tr>\n",
       "      <th>2166</th>\n",
       "      <td>668955713004314625</td>\n",
       "      <td>258</td>\n",
       "      <td>66</td>\n",
       "      <td>2015-11-24 00:54:05+00:00</td>\n",
       "    </tr>\n",
       "    <tr>\n",
       "      <th>1324</th>\n",
       "      <td>704347321748819968</td>\n",
       "      <td>1542</td>\n",
       "      <td>341</td>\n",
       "      <td>2016-02-29 16:47:42+00:00</td>\n",
       "    </tr>\n",
       "    <tr>\n",
       "      <th>845</th>\n",
       "      <td>761976711479193600</td>\n",
       "      <td>5342</td>\n",
       "      <td>1985</td>\n",
       "      <td>2016-08-06 17:26:19+00:00</td>\n",
       "    </tr>\n",
       "    <tr>\n",
       "      <th>2116</th>\n",
       "      <td>669993076832759809</td>\n",
       "      <td>305</td>\n",
       "      <td>77</td>\n",
       "      <td>2015-11-26 21:36:12+00:00</td>\n",
       "    </tr>\n",
       "    <tr>\n",
       "      <th>268</th>\n",
       "      <td>839549326359670784</td>\n",
       "      <td>26963</td>\n",
       "      <td>7557</td>\n",
       "      <td>2017-03-08 18:52:12+00:00</td>\n",
       "    </tr>\n",
       "    <tr>\n",
       "      <th>968</th>\n",
       "      <td>748692773788876800</td>\n",
       "      <td>4182</td>\n",
       "      <td>1308</td>\n",
       "      <td>2016-07-01 01:40:41+00:00</td>\n",
       "    </tr>\n",
       "    <tr>\n",
       "      <th>632</th>\n",
       "      <td>792883833364439040</td>\n",
       "      <td>11319</td>\n",
       "      <td>4278</td>\n",
       "      <td>2016-10-31 00:20:11+00:00</td>\n",
       "    </tr>\n",
       "    <tr>\n",
       "      <th>937</th>\n",
       "      <td>751132876104687617</td>\n",
       "      <td>4994</td>\n",
       "      <td>1278</td>\n",
       "      <td>2016-07-07 19:16:47+00:00</td>\n",
       "    </tr>\n",
       "  </tbody>\n",
       "</table>\n",
       "</div>"
      ],
      "text/plain": [
       "                tweet_id  favorites  retweets                  date_time\n",
       "1370  700002074055016451       3236      1305  2016-02-17 17:01:14+00:00\n",
       "1020  743609206067040256       4390      1354  2016-06-17 01:00:24+00:00\n",
       "2166  668955713004314625        258        66  2015-11-24 00:54:05+00:00\n",
       "1324  704347321748819968       1542       341  2016-02-29 16:47:42+00:00\n",
       "845   761976711479193600       5342      1985  2016-08-06 17:26:19+00:00\n",
       "2116  669993076832759809        305        77  2015-11-26 21:36:12+00:00\n",
       "268   839549326359670784      26963      7557  2017-03-08 18:52:12+00:00\n",
       "968   748692773788876800       4182      1308  2016-07-01 01:40:41+00:00\n",
       "632   792883833364439040      11319      4278  2016-10-31 00:20:11+00:00\n",
       "937   751132876104687617       4994      1278  2016-07-07 19:16:47+00:00"
      ]
     },
     "execution_count": 42,
     "metadata": {},
     "output_type": "execute_result"
    }
   ],
   "source": [
    "#use sample to look through the DataFrame 10 random selections at a time to find any issues\n",
    "tweet_df.sample(10)"
   ]
  },
  {
   "cell_type": "code",
   "execution_count": 43,
   "metadata": {},
   "outputs": [
    {
     "data": {
      "text/html": [
       "<div>\n",
       "<style scoped>\n",
       "    .dataframe tbody tr th:only-of-type {\n",
       "        vertical-align: middle;\n",
       "    }\n",
       "\n",
       "    .dataframe tbody tr th {\n",
       "        vertical-align: top;\n",
       "    }\n",
       "\n",
       "    .dataframe thead th {\n",
       "        text-align: right;\n",
       "    }\n",
       "</style>\n",
       "<table border=\"1\" class=\"dataframe\">\n",
       "  <thead>\n",
       "    <tr style=\"text-align: right;\">\n",
       "      <th></th>\n",
       "      <th>tweet_id</th>\n",
       "      <th>in_reply_to_status_id</th>\n",
       "      <th>in_reply_to_user_id</th>\n",
       "      <th>timestamp</th>\n",
       "      <th>source</th>\n",
       "      <th>text</th>\n",
       "      <th>retweeted_status_id</th>\n",
       "      <th>retweeted_status_user_id</th>\n",
       "      <th>retweeted_status_timestamp</th>\n",
       "      <th>expanded_urls</th>\n",
       "      <th>rating_numerator</th>\n",
       "      <th>rating_denominator</th>\n",
       "      <th>name</th>\n",
       "      <th>doggo</th>\n",
       "      <th>floofer</th>\n",
       "      <th>pupper</th>\n",
       "      <th>puppo</th>\n",
       "    </tr>\n",
       "  </thead>\n",
       "  <tbody>\n",
       "    <tr>\n",
       "      <th>1231</th>\n",
       "      <td>713177543487135744</td>\n",
       "      <td>NaN</td>\n",
       "      <td>NaN</td>\n",
       "      <td>2016-03-25 01:35:51 +0000</td>\n",
       "      <td>&lt;a href=\"http://twitter.com/download/iphone\" r...</td>\n",
       "      <td>This is Lance. Lance doesn't give a shit. 10/1...</td>\n",
       "      <td>NaN</td>\n",
       "      <td>NaN</td>\n",
       "      <td>NaN</td>\n",
       "      <td>https://twitter.com/dog_rates/status/713177543...</td>\n",
       "      <td>10</td>\n",
       "      <td>10</td>\n",
       "      <td>Lance</td>\n",
       "      <td>None</td>\n",
       "      <td>None</td>\n",
       "      <td>None</td>\n",
       "      <td>None</td>\n",
       "    </tr>\n",
       "    <tr>\n",
       "      <th>2116</th>\n",
       "      <td>670427002554466305</td>\n",
       "      <td>NaN</td>\n",
       "      <td>NaN</td>\n",
       "      <td>2015-11-28 02:20:27 +0000</td>\n",
       "      <td>&lt;a href=\"http://twitter.com/download/iphone\" r...</td>\n",
       "      <td>This is a Deciduous Trimester mix named Spork....</td>\n",
       "      <td>NaN</td>\n",
       "      <td>NaN</td>\n",
       "      <td>NaN</td>\n",
       "      <td>https://twitter.com/dog_rates/status/670427002...</td>\n",
       "      <td>9</td>\n",
       "      <td>10</td>\n",
       "      <td>a</td>\n",
       "      <td>None</td>\n",
       "      <td>None</td>\n",
       "      <td>None</td>\n",
       "      <td>None</td>\n",
       "    </tr>\n",
       "    <tr>\n",
       "      <th>335</th>\n",
       "      <td>832645525019123713</td>\n",
       "      <td>NaN</td>\n",
       "      <td>NaN</td>\n",
       "      <td>2017-02-17 17:38:57 +0000</td>\n",
       "      <td>&lt;a href=\"http://twitter.com\" rel=\"nofollow\"&gt;Tw...</td>\n",
       "      <td>There's going to be a dog terminal at JFK Airp...</td>\n",
       "      <td>NaN</td>\n",
       "      <td>NaN</td>\n",
       "      <td>NaN</td>\n",
       "      <td>http://us.blastingnews.com/news/2017/02/jfk-an...</td>\n",
       "      <td>10</td>\n",
       "      <td>10</td>\n",
       "      <td>not</td>\n",
       "      <td>None</td>\n",
       "      <td>None</td>\n",
       "      <td>None</td>\n",
       "      <td>None</td>\n",
       "    </tr>\n",
       "    <tr>\n",
       "      <th>1638</th>\n",
       "      <td>684188786104872960</td>\n",
       "      <td>NaN</td>\n",
       "      <td>NaN</td>\n",
       "      <td>2016-01-05 01:44:52 +0000</td>\n",
       "      <td>&lt;a href=\"http://twitter.com/download/iphone\" r...</td>\n",
       "      <td>\"Yo Boomer I'm taking a selfie, grab your stic...</td>\n",
       "      <td>NaN</td>\n",
       "      <td>NaN</td>\n",
       "      <td>NaN</td>\n",
       "      <td>https://twitter.com/dog_rates/status/684188786...</td>\n",
       "      <td>10</td>\n",
       "      <td>10</td>\n",
       "      <td>None</td>\n",
       "      <td>None</td>\n",
       "      <td>None</td>\n",
       "      <td>None</td>\n",
       "      <td>None</td>\n",
       "    </tr>\n",
       "    <tr>\n",
       "      <th>1327</th>\n",
       "      <td>705975130514706432</td>\n",
       "      <td>NaN</td>\n",
       "      <td>NaN</td>\n",
       "      <td>2016-03-05 04:36:02 +0000</td>\n",
       "      <td>&lt;a href=\"http://twitter.com/download/iphone\" r...</td>\n",
       "      <td>This is Adele. Her tongue flies out of her mou...</td>\n",
       "      <td>NaN</td>\n",
       "      <td>NaN</td>\n",
       "      <td>NaN</td>\n",
       "      <td>https://twitter.com/dog_rates/status/705975130...</td>\n",
       "      <td>10</td>\n",
       "      <td>10</td>\n",
       "      <td>Adele</td>\n",
       "      <td>None</td>\n",
       "      <td>None</td>\n",
       "      <td>pupper</td>\n",
       "      <td>None</td>\n",
       "    </tr>\n",
       "    <tr>\n",
       "      <th>937</th>\n",
       "      <td>753298634498793472</td>\n",
       "      <td>NaN</td>\n",
       "      <td>NaN</td>\n",
       "      <td>2016-07-13 18:42:44 +0000</td>\n",
       "      <td>&lt;a href=\"http://twitter.com/download/iphone\" r...</td>\n",
       "      <td>RT @dog_rates: This is Carly. She's actually 2...</td>\n",
       "      <td>6.815232e+17</td>\n",
       "      <td>4.196984e+09</td>\n",
       "      <td>2015-12-28 17:12:42 +0000</td>\n",
       "      <td>https://twitter.com/dog_rates/status/681523177...</td>\n",
       "      <td>12</td>\n",
       "      <td>10</td>\n",
       "      <td>Carly</td>\n",
       "      <td>None</td>\n",
       "      <td>None</td>\n",
       "      <td>None</td>\n",
       "      <td>None</td>\n",
       "    </tr>\n",
       "    <tr>\n",
       "      <th>2179</th>\n",
       "      <td>669006782128353280</td>\n",
       "      <td>NaN</td>\n",
       "      <td>NaN</td>\n",
       "      <td>2015-11-24 04:17:01 +0000</td>\n",
       "      <td>&lt;a href=\"http://twitter.com/download/iphone\" r...</td>\n",
       "      <td>This is Tucker. He is 100% ready for the sport...</td>\n",
       "      <td>NaN</td>\n",
       "      <td>NaN</td>\n",
       "      <td>NaN</td>\n",
       "      <td>https://twitter.com/dog_rates/status/669006782...</td>\n",
       "      <td>12</td>\n",
       "      <td>10</td>\n",
       "      <td>Tucker</td>\n",
       "      <td>None</td>\n",
       "      <td>None</td>\n",
       "      <td>None</td>\n",
       "      <td>None</td>\n",
       "    </tr>\n",
       "    <tr>\n",
       "      <th>352</th>\n",
       "      <td>831315979191906304</td>\n",
       "      <td>NaN</td>\n",
       "      <td>NaN</td>\n",
       "      <td>2017-02-14 01:35:49 +0000</td>\n",
       "      <td>&lt;a href=\"http://twitter.com\" rel=\"nofollow\"&gt;Tw...</td>\n",
       "      <td>I couldn't make it to the #WKCDogShow BUT I ha...</td>\n",
       "      <td>NaN</td>\n",
       "      <td>NaN</td>\n",
       "      <td>NaN</td>\n",
       "      <td>https://twitter.com/dog_rates/status/831315979...</td>\n",
       "      <td>13</td>\n",
       "      <td>10</td>\n",
       "      <td>None</td>\n",
       "      <td>None</td>\n",
       "      <td>None</td>\n",
       "      <td>pupper</td>\n",
       "      <td>None</td>\n",
       "    </tr>\n",
       "    <tr>\n",
       "      <th>577</th>\n",
       "      <td>800855607700029440</td>\n",
       "      <td>NaN</td>\n",
       "      <td>NaN</td>\n",
       "      <td>2016-11-22 00:17:10 +0000</td>\n",
       "      <td>&lt;a href=\"http://twitter.com/download/iphone\" r...</td>\n",
       "      <td>RT @Lin_Manuel: 11/10 would recommend. https:/...</td>\n",
       "      <td>8.008540e+17</td>\n",
       "      <td>7.992370e+07</td>\n",
       "      <td>2016-11-22 00:10:52 +0000</td>\n",
       "      <td>https://twitter.com/littlewiewel/status/800852...</td>\n",
       "      <td>11</td>\n",
       "      <td>10</td>\n",
       "      <td>None</td>\n",
       "      <td>None</td>\n",
       "      <td>None</td>\n",
       "      <td>None</td>\n",
       "      <td>None</td>\n",
       "    </tr>\n",
       "    <tr>\n",
       "      <th>1571</th>\n",
       "      <td>687704180304273409</td>\n",
       "      <td>NaN</td>\n",
       "      <td>NaN</td>\n",
       "      <td>2016-01-14 18:33:48 +0000</td>\n",
       "      <td>&lt;a href=\"http://twitter.com/download/iphone\" r...</td>\n",
       "      <td>Say hello to Blakely. He thinks that's a hat. ...</td>\n",
       "      <td>NaN</td>\n",
       "      <td>NaN</td>\n",
       "      <td>NaN</td>\n",
       "      <td>https://twitter.com/dog_rates/status/687704180...</td>\n",
       "      <td>9</td>\n",
       "      <td>10</td>\n",
       "      <td>Blakely</td>\n",
       "      <td>None</td>\n",
       "      <td>None</td>\n",
       "      <td>pupper</td>\n",
       "      <td>None</td>\n",
       "    </tr>\n",
       "  </tbody>\n",
       "</table>\n",
       "</div>"
      ],
      "text/plain": [
       "                tweet_id  in_reply_to_status_id  in_reply_to_user_id  \\\n",
       "1231  713177543487135744                    NaN                  NaN   \n",
       "2116  670427002554466305                    NaN                  NaN   \n",
       "335   832645525019123713                    NaN                  NaN   \n",
       "1638  684188786104872960                    NaN                  NaN   \n",
       "1327  705975130514706432                    NaN                  NaN   \n",
       "937   753298634498793472                    NaN                  NaN   \n",
       "2179  669006782128353280                    NaN                  NaN   \n",
       "352   831315979191906304                    NaN                  NaN   \n",
       "577   800855607700029440                    NaN                  NaN   \n",
       "1571  687704180304273409                    NaN                  NaN   \n",
       "\n",
       "                      timestamp  \\\n",
       "1231  2016-03-25 01:35:51 +0000   \n",
       "2116  2015-11-28 02:20:27 +0000   \n",
       "335   2017-02-17 17:38:57 +0000   \n",
       "1638  2016-01-05 01:44:52 +0000   \n",
       "1327  2016-03-05 04:36:02 +0000   \n",
       "937   2016-07-13 18:42:44 +0000   \n",
       "2179  2015-11-24 04:17:01 +0000   \n",
       "352   2017-02-14 01:35:49 +0000   \n",
       "577   2016-11-22 00:17:10 +0000   \n",
       "1571  2016-01-14 18:33:48 +0000   \n",
       "\n",
       "                                                 source  \\\n",
       "1231  <a href=\"http://twitter.com/download/iphone\" r...   \n",
       "2116  <a href=\"http://twitter.com/download/iphone\" r...   \n",
       "335   <a href=\"http://twitter.com\" rel=\"nofollow\">Tw...   \n",
       "1638  <a href=\"http://twitter.com/download/iphone\" r...   \n",
       "1327  <a href=\"http://twitter.com/download/iphone\" r...   \n",
       "937   <a href=\"http://twitter.com/download/iphone\" r...   \n",
       "2179  <a href=\"http://twitter.com/download/iphone\" r...   \n",
       "352   <a href=\"http://twitter.com\" rel=\"nofollow\">Tw...   \n",
       "577   <a href=\"http://twitter.com/download/iphone\" r...   \n",
       "1571  <a href=\"http://twitter.com/download/iphone\" r...   \n",
       "\n",
       "                                                   text  retweeted_status_id  \\\n",
       "1231  This is Lance. Lance doesn't give a shit. 10/1...                  NaN   \n",
       "2116  This is a Deciduous Trimester mix named Spork....                  NaN   \n",
       "335   There's going to be a dog terminal at JFK Airp...                  NaN   \n",
       "1638  \"Yo Boomer I'm taking a selfie, grab your stic...                  NaN   \n",
       "1327  This is Adele. Her tongue flies out of her mou...                  NaN   \n",
       "937   RT @dog_rates: This is Carly. She's actually 2...         6.815232e+17   \n",
       "2179  This is Tucker. He is 100% ready for the sport...                  NaN   \n",
       "352   I couldn't make it to the #WKCDogShow BUT I ha...                  NaN   \n",
       "577   RT @Lin_Manuel: 11/10 would recommend. https:/...         8.008540e+17   \n",
       "1571  Say hello to Blakely. He thinks that's a hat. ...                  NaN   \n",
       "\n",
       "      retweeted_status_user_id retweeted_status_timestamp  \\\n",
       "1231                       NaN                        NaN   \n",
       "2116                       NaN                        NaN   \n",
       "335                        NaN                        NaN   \n",
       "1638                       NaN                        NaN   \n",
       "1327                       NaN                        NaN   \n",
       "937               4.196984e+09  2015-12-28 17:12:42 +0000   \n",
       "2179                       NaN                        NaN   \n",
       "352                        NaN                        NaN   \n",
       "577               7.992370e+07  2016-11-22 00:10:52 +0000   \n",
       "1571                       NaN                        NaN   \n",
       "\n",
       "                                          expanded_urls  rating_numerator  \\\n",
       "1231  https://twitter.com/dog_rates/status/713177543...                10   \n",
       "2116  https://twitter.com/dog_rates/status/670427002...                 9   \n",
       "335   http://us.blastingnews.com/news/2017/02/jfk-an...                10   \n",
       "1638  https://twitter.com/dog_rates/status/684188786...                10   \n",
       "1327  https://twitter.com/dog_rates/status/705975130...                10   \n",
       "937   https://twitter.com/dog_rates/status/681523177...                12   \n",
       "2179  https://twitter.com/dog_rates/status/669006782...                12   \n",
       "352   https://twitter.com/dog_rates/status/831315979...                13   \n",
       "577   https://twitter.com/littlewiewel/status/800852...                11   \n",
       "1571  https://twitter.com/dog_rates/status/687704180...                 9   \n",
       "\n",
       "      rating_denominator     name doggo floofer  pupper puppo  \n",
       "1231                  10    Lance  None    None    None  None  \n",
       "2116                  10        a  None    None    None  None  \n",
       "335                   10      not  None    None    None  None  \n",
       "1638                  10     None  None    None    None  None  \n",
       "1327                  10    Adele  None    None  pupper  None  \n",
       "937                   10    Carly  None    None    None  None  \n",
       "2179                  10   Tucker  None    None    None  None  \n",
       "352                   10     None  None    None  pupper  None  \n",
       "577                   10     None  None    None    None  None  \n",
       "1571                  10  Blakely  None    None  pupper  None  "
      ]
     },
     "execution_count": 43,
     "metadata": {},
     "output_type": "execute_result"
    }
   ],
   "source": [
    "twitter_archive.sample(10)"
   ]
  },
  {
   "cell_type": "code",
   "execution_count": 44,
   "metadata": {},
   "outputs": [
    {
     "data": {
      "text/html": [
       "<div>\n",
       "<style scoped>\n",
       "    .dataframe tbody tr th:only-of-type {\n",
       "        vertical-align: middle;\n",
       "    }\n",
       "\n",
       "    .dataframe tbody tr th {\n",
       "        vertical-align: top;\n",
       "    }\n",
       "\n",
       "    .dataframe thead th {\n",
       "        text-align: right;\n",
       "    }\n",
       "</style>\n",
       "<table border=\"1\" class=\"dataframe\">\n",
       "  <thead>\n",
       "    <tr style=\"text-align: right;\">\n",
       "      <th></th>\n",
       "      <th>tweet_id</th>\n",
       "      <th>jpg_url</th>\n",
       "      <th>img_num</th>\n",
       "      <th>p1</th>\n",
       "      <th>p1_conf</th>\n",
       "      <th>p1_dog</th>\n",
       "      <th>p2</th>\n",
       "      <th>p2_conf</th>\n",
       "      <th>p2_dog</th>\n",
       "      <th>p3</th>\n",
       "      <th>p3_conf</th>\n",
       "      <th>p3_dog</th>\n",
       "    </tr>\n",
       "  </thead>\n",
       "  <tbody>\n",
       "    <tr>\n",
       "      <th>800</th>\n",
       "      <td>691416866452082688</td>\n",
       "      <td>https://pbs.twimg.com/media/CZhn-QAWwAASQan.jpg</td>\n",
       "      <td>1</td>\n",
       "      <td>Lakeland_terrier</td>\n",
       "      <td>0.530104</td>\n",
       "      <td>True</td>\n",
       "      <td>Irish_terrier</td>\n",
       "      <td>0.197314</td>\n",
       "      <td>True</td>\n",
       "      <td>Airedale</td>\n",
       "      <td>0.082515</td>\n",
       "      <td>True</td>\n",
       "    </tr>\n",
       "    <tr>\n",
       "      <th>918</th>\n",
       "      <td>701601587219795968</td>\n",
       "      <td>https://pbs.twimg.com/media/CbyW7B0W8AIX8kX.jpg</td>\n",
       "      <td>1</td>\n",
       "      <td>Chihuahua</td>\n",
       "      <td>0.993661</td>\n",
       "      <td>True</td>\n",
       "      <td>Pembroke</td>\n",
       "      <td>0.001505</td>\n",
       "      <td>True</td>\n",
       "      <td>toy_terrier</td>\n",
       "      <td>0.000867</td>\n",
       "      <td>True</td>\n",
       "    </tr>\n",
       "    <tr>\n",
       "      <th>1484</th>\n",
       "      <td>781524693396357120</td>\n",
       "      <td>https://pbs.twimg.com/media/CtiIj0AWcAEBDvw.jpg</td>\n",
       "      <td>1</td>\n",
       "      <td>tennis_ball</td>\n",
       "      <td>0.994712</td>\n",
       "      <td>False</td>\n",
       "      <td>Chesapeake_Bay_retriever</td>\n",
       "      <td>0.003523</td>\n",
       "      <td>True</td>\n",
       "      <td>Labrador_retriever</td>\n",
       "      <td>0.000921</td>\n",
       "      <td>True</td>\n",
       "    </tr>\n",
       "    <tr>\n",
       "      <th>36</th>\n",
       "      <td>666447344410484738</td>\n",
       "      <td>https://pbs.twimg.com/media/CT-yU5QWwAEjLX5.jpg</td>\n",
       "      <td>1</td>\n",
       "      <td>curly-coated_retriever</td>\n",
       "      <td>0.322084</td>\n",
       "      <td>True</td>\n",
       "      <td>giant_schnauzer</td>\n",
       "      <td>0.287955</td>\n",
       "      <td>True</td>\n",
       "      <td>Labrador_retriever</td>\n",
       "      <td>0.166331</td>\n",
       "      <td>True</td>\n",
       "    </tr>\n",
       "    <tr>\n",
       "      <th>1052</th>\n",
       "      <td>714141408463036416</td>\n",
       "      <td>https://pbs.twimg.com/media/Cekj0qwXEAAHcS6.jpg</td>\n",
       "      <td>1</td>\n",
       "      <td>Labrador_retriever</td>\n",
       "      <td>0.586951</td>\n",
       "      <td>True</td>\n",
       "      <td>golden_retriever</td>\n",
       "      <td>0.378812</td>\n",
       "      <td>True</td>\n",
       "      <td>redbone</td>\n",
       "      <td>0.003605</td>\n",
       "      <td>True</td>\n",
       "    </tr>\n",
       "    <tr>\n",
       "      <th>327</th>\n",
       "      <td>671896809300709376</td>\n",
       "      <td>https://pbs.twimg.com/media/CVMOlMiWwAA4Yxl.jpg</td>\n",
       "      <td>1</td>\n",
       "      <td>chow</td>\n",
       "      <td>0.243529</td>\n",
       "      <td>True</td>\n",
       "      <td>hamster</td>\n",
       "      <td>0.227150</td>\n",
       "      <td>False</td>\n",
       "      <td>Pomeranian</td>\n",
       "      <td>0.056057</td>\n",
       "      <td>True</td>\n",
       "    </tr>\n",
       "    <tr>\n",
       "      <th>2018</th>\n",
       "      <td>880221127280381952</td>\n",
       "      <td>https://pbs.twimg.com/media/DDcscbXU0AIfDzs.jpg</td>\n",
       "      <td>1</td>\n",
       "      <td>Chihuahua</td>\n",
       "      <td>0.238525</td>\n",
       "      <td>True</td>\n",
       "      <td>meerkat</td>\n",
       "      <td>0.104256</td>\n",
       "      <td>False</td>\n",
       "      <td>clumber</td>\n",
       "      <td>0.052580</td>\n",
       "      <td>True</td>\n",
       "    </tr>\n",
       "    <tr>\n",
       "      <th>1687</th>\n",
       "      <td>814986499976527872</td>\n",
       "      <td>https://pbs.twimg.com/media/C09p5dJWIAE5qKL.jpg</td>\n",
       "      <td>1</td>\n",
       "      <td>dalmatian</td>\n",
       "      <td>0.999828</td>\n",
       "      <td>True</td>\n",
       "      <td>boxer</td>\n",
       "      <td>0.000068</td>\n",
       "      <td>True</td>\n",
       "      <td>American_Staffordshire_terrier</td>\n",
       "      <td>0.000034</td>\n",
       "      <td>True</td>\n",
       "    </tr>\n",
       "    <tr>\n",
       "      <th>1116</th>\n",
       "      <td>725729321944506368</td>\n",
       "      <td>https://pbs.twimg.com/media/ChJO9YaWYAEL0zC.jpg</td>\n",
       "      <td>1</td>\n",
       "      <td>boxer</td>\n",
       "      <td>0.599076</td>\n",
       "      <td>True</td>\n",
       "      <td>bull_mastiff</td>\n",
       "      <td>0.177318</td>\n",
       "      <td>True</td>\n",
       "      <td>French_bulldog</td>\n",
       "      <td>0.141461</td>\n",
       "      <td>True</td>\n",
       "    </tr>\n",
       "    <tr>\n",
       "      <th>992</th>\n",
       "      <td>708109389455101952</td>\n",
       "      <td>https://pbs.twimg.com/media/CdO1u9vWAAApj2V.jpg</td>\n",
       "      <td>1</td>\n",
       "      <td>Staffordshire_bullterrier</td>\n",
       "      <td>0.516106</td>\n",
       "      <td>True</td>\n",
       "      <td>American_Staffordshire_terrier</td>\n",
       "      <td>0.236075</td>\n",
       "      <td>True</td>\n",
       "      <td>kelpie</td>\n",
       "      <td>0.069750</td>\n",
       "      <td>True</td>\n",
       "    </tr>\n",
       "  </tbody>\n",
       "</table>\n",
       "</div>"
      ],
      "text/plain": [
       "                tweet_id                                          jpg_url  \\\n",
       "800   691416866452082688  https://pbs.twimg.com/media/CZhn-QAWwAASQan.jpg   \n",
       "918   701601587219795968  https://pbs.twimg.com/media/CbyW7B0W8AIX8kX.jpg   \n",
       "1484  781524693396357120  https://pbs.twimg.com/media/CtiIj0AWcAEBDvw.jpg   \n",
       "36    666447344410484738  https://pbs.twimg.com/media/CT-yU5QWwAEjLX5.jpg   \n",
       "1052  714141408463036416  https://pbs.twimg.com/media/Cekj0qwXEAAHcS6.jpg   \n",
       "327   671896809300709376  https://pbs.twimg.com/media/CVMOlMiWwAA4Yxl.jpg   \n",
       "2018  880221127280381952  https://pbs.twimg.com/media/DDcscbXU0AIfDzs.jpg   \n",
       "1687  814986499976527872  https://pbs.twimg.com/media/C09p5dJWIAE5qKL.jpg   \n",
       "1116  725729321944506368  https://pbs.twimg.com/media/ChJO9YaWYAEL0zC.jpg   \n",
       "992   708109389455101952  https://pbs.twimg.com/media/CdO1u9vWAAApj2V.jpg   \n",
       "\n",
       "      img_num                         p1   p1_conf  p1_dog  \\\n",
       "800         1           Lakeland_terrier  0.530104    True   \n",
       "918         1                  Chihuahua  0.993661    True   \n",
       "1484        1                tennis_ball  0.994712   False   \n",
       "36          1     curly-coated_retriever  0.322084    True   \n",
       "1052        1         Labrador_retriever  0.586951    True   \n",
       "327         1                       chow  0.243529    True   \n",
       "2018        1                  Chihuahua  0.238525    True   \n",
       "1687        1                  dalmatian  0.999828    True   \n",
       "1116        1                      boxer  0.599076    True   \n",
       "992         1  Staffordshire_bullterrier  0.516106    True   \n",
       "\n",
       "                                  p2   p2_conf  p2_dog  \\\n",
       "800                    Irish_terrier  0.197314    True   \n",
       "918                         Pembroke  0.001505    True   \n",
       "1484        Chesapeake_Bay_retriever  0.003523    True   \n",
       "36                   giant_schnauzer  0.287955    True   \n",
       "1052                golden_retriever  0.378812    True   \n",
       "327                          hamster  0.227150   False   \n",
       "2018                         meerkat  0.104256   False   \n",
       "1687                           boxer  0.000068    True   \n",
       "1116                    bull_mastiff  0.177318    True   \n",
       "992   American_Staffordshire_terrier  0.236075    True   \n",
       "\n",
       "                                  p3   p3_conf  p3_dog  \n",
       "800                         Airedale  0.082515    True  \n",
       "918                      toy_terrier  0.000867    True  \n",
       "1484              Labrador_retriever  0.000921    True  \n",
       "36                Labrador_retriever  0.166331    True  \n",
       "1052                         redbone  0.003605    True  \n",
       "327                       Pomeranian  0.056057    True  \n",
       "2018                         clumber  0.052580    True  \n",
       "1687  American_Staffordshire_terrier  0.000034    True  \n",
       "1116                  French_bulldog  0.141461    True  \n",
       "992                           kelpie  0.069750    True  "
      ]
     },
     "execution_count": 44,
     "metadata": {},
     "output_type": "execute_result"
    }
   ],
   "source": [
    "image_predictions.sample(10)"
   ]
  },
  {
   "cell_type": "markdown",
   "metadata": {},
   "source": [
    "**Assess Programmatically**"
   ]
  },
  {
   "cell_type": "code",
   "execution_count": 45,
   "metadata": {},
   "outputs": [
    {
     "name": "stdout",
     "output_type": "stream",
     "text": [
      "<class 'pandas.core.frame.DataFrame'>\n",
      "RangeIndex: 2331 entries, 0 to 2330\n",
      "Data columns (total 4 columns):\n",
      " #   Column     Non-Null Count  Dtype \n",
      "---  ------     --------------  ----- \n",
      " 0   tweet_id   2331 non-null   int64 \n",
      " 1   favorites  2331 non-null   int64 \n",
      " 2   retweets   2331 non-null   int64 \n",
      " 3   date_time  2331 non-null   object\n",
      "dtypes: int64(3), object(1)\n",
      "memory usage: 73.0+ KB\n"
     ]
    }
   ],
   "source": [
    "#assess programmatically using info\n",
    "tweet_df.info()"
   ]
  },
  {
   "cell_type": "code",
   "execution_count": 46,
   "metadata": {},
   "outputs": [
    {
     "name": "stdout",
     "output_type": "stream",
     "text": [
      "<class 'pandas.core.frame.DataFrame'>\n",
      "RangeIndex: 2356 entries, 0 to 2355\n",
      "Data columns (total 17 columns):\n",
      " #   Column                      Non-Null Count  Dtype  \n",
      "---  ------                      --------------  -----  \n",
      " 0   tweet_id                    2356 non-null   int64  \n",
      " 1   in_reply_to_status_id       78 non-null     float64\n",
      " 2   in_reply_to_user_id         78 non-null     float64\n",
      " 3   timestamp                   2356 non-null   object \n",
      " 4   source                      2356 non-null   object \n",
      " 5   text                        2356 non-null   object \n",
      " 6   retweeted_status_id         181 non-null    float64\n",
      " 7   retweeted_status_user_id    181 non-null    float64\n",
      " 8   retweeted_status_timestamp  181 non-null    object \n",
      " 9   expanded_urls               2297 non-null   object \n",
      " 10  rating_numerator            2356 non-null   int64  \n",
      " 11  rating_denominator          2356 non-null   int64  \n",
      " 12  name                        2356 non-null   object \n",
      " 13  doggo                       2356 non-null   object \n",
      " 14  floofer                     2356 non-null   object \n",
      " 15  pupper                      2356 non-null   object \n",
      " 16  puppo                       2356 non-null   object \n",
      "dtypes: float64(4), int64(3), object(10)\n",
      "memory usage: 313.0+ KB\n"
     ]
    }
   ],
   "source": [
    "twitter_archive.info()"
   ]
  },
  {
   "cell_type": "code",
   "execution_count": 47,
   "metadata": {},
   "outputs": [
    {
     "name": "stdout",
     "output_type": "stream",
     "text": [
      "<class 'pandas.core.frame.DataFrame'>\n",
      "RangeIndex: 2075 entries, 0 to 2074\n",
      "Data columns (total 12 columns):\n",
      " #   Column    Non-Null Count  Dtype  \n",
      "---  ------    --------------  -----  \n",
      " 0   tweet_id  2075 non-null   int64  \n",
      " 1   jpg_url   2075 non-null   object \n",
      " 2   img_num   2075 non-null   int64  \n",
      " 3   p1        2075 non-null   object \n",
      " 4   p1_conf   2075 non-null   float64\n",
      " 5   p1_dog    2075 non-null   bool   \n",
      " 6   p2        2075 non-null   object \n",
      " 7   p2_conf   2075 non-null   float64\n",
      " 8   p2_dog    2075 non-null   bool   \n",
      " 9   p3        2075 non-null   object \n",
      " 10  p3_conf   2075 non-null   float64\n",
      " 11  p3_dog    2075 non-null   bool   \n",
      "dtypes: bool(3), float64(3), int64(2), object(4)\n",
      "memory usage: 152.1+ KB\n"
     ]
    }
   ],
   "source": [
    "image_predictions.info()"
   ]
  },
  {
   "cell_type": "code",
   "execution_count": 48,
   "metadata": {},
   "outputs": [
    {
     "data": {
      "text/plain": [
       "12      558\n",
       "11      464\n",
       "10      461\n",
       "13      351\n",
       "9       158\n",
       "8       102\n",
       "7        55\n",
       "14       54\n",
       "5        37\n",
       "6        32\n",
       "3        19\n",
       "4        17\n",
       "1         9\n",
       "2         9\n",
       "420       2\n",
       "0         2\n",
       "15        2\n",
       "75        2\n",
       "80        1\n",
       "20        1\n",
       "24        1\n",
       "26        1\n",
       "44        1\n",
       "50        1\n",
       "60        1\n",
       "165       1\n",
       "84        1\n",
       "88        1\n",
       "144       1\n",
       "182       1\n",
       "143       1\n",
       "666       1\n",
       "960       1\n",
       "1776      1\n",
       "17        1\n",
       "27        1\n",
       "45        1\n",
       "99        1\n",
       "121       1\n",
       "204       1\n",
       "Name: rating_numerator, dtype: int64"
      ]
     },
     "execution_count": 48,
     "metadata": {},
     "output_type": "execute_result"
    }
   ],
   "source": [
    "#get a look at the ratings more in detail\n",
    "twitter_archive['rating_numerator'].value_counts()"
   ]
  },
  {
   "cell_type": "code",
   "execution_count": 49,
   "metadata": {},
   "outputs": [
    {
     "data": {
      "text/plain": [
       "10     2333\n",
       "11        3\n",
       "50        3\n",
       "80        2\n",
       "20        2\n",
       "2         1\n",
       "16        1\n",
       "40        1\n",
       "70        1\n",
       "15        1\n",
       "90        1\n",
       "110       1\n",
       "120       1\n",
       "130       1\n",
       "150       1\n",
       "170       1\n",
       "7         1\n",
       "0         1\n",
       "Name: rating_denominator, dtype: int64"
      ]
     },
     "execution_count": 49,
     "metadata": {},
     "output_type": "execute_result"
    }
   ],
   "source": [
    "twitter_archive['rating_denominator'].value_counts()"
   ]
  },
  {
   "cell_type": "code",
   "execution_count": 50,
   "metadata": {},
   "outputs": [
    {
     "data": {
      "text/plain": [
       "None        745\n",
       "a            55\n",
       "Charlie      12\n",
       "Oliver       11\n",
       "Lucy         11\n",
       "           ... \n",
       "by            1\n",
       "Geno          1\n",
       "DayZ          1\n",
       "Aubie         1\n",
       "Leonidas      1\n",
       "Name: name, Length: 957, dtype: int64"
      ]
     },
     "execution_count": 50,
     "metadata": {},
     "output_type": "execute_result"
    }
   ],
   "source": [
    "#take a closer look at the names alone\n",
    "twitter_archive['name'].value_counts()"
   ]
  },
  {
   "cell_type": "markdown",
   "metadata": {},
   "source": [
    "<h1> Summary </h1>\n",
    "\n",
    "<p> <b>Quality</b> </p>\n",
    "\n",
    "<p> <ul>\n",
    "  <li>Retweets are included</li>\n",
    "  <li>Some tweets do not have images</li>\n",
    "  <li>Some dogs don't have names or they are not actual names</li>\n",
    "  <li>Retweet columns are missing values and are not needed</li>\n",
    "  <li>Extra dog predictions or confidence level aren't necessary</li>\n",
    "  <li>Some numerators and demoninators don't follow WeRateDogs standard rating convention</li>\n",
    "  <li>Timestamp column is hard to read</li>\n",
    "  <li>Source column is messy</li>\n",
    "  <li>Tweet ID's should be strings</li>\n",
    "  <li>Reply status columns aren't needed</li>\n",
    "  <li>Only the portion behind the decimal pulled for ratings with decimals</li>\n",
    "  <li>Some denominators don't follow the standards</li>\n",
    "  <li>Some denominators don't follow the standards</li>\n",
    "\n",
    "</ul> </p>\n",
    "\n",
    "<p> <b>Tidiness</b> </p>\n",
    "\n",
    "<p> <ul>\n",
    "  <li>Tables can be merged into one</li>\n",
    "  <li>Four columns for dog description, e.g. puppo, floofer, etc.</li>\n",
    "</ul> </p>\n",
    "\n",
    "    "
   ]
  },
  {
   "cell_type": "markdown",
   "metadata": {},
   "source": [
    "<h1>Cleaning</h1>"
   ]
  },
  {
   "cell_type": "code",
   "execution_count": 51,
   "metadata": {},
   "outputs": [],
   "source": [
    "#creat copies of DataFrames before working on them\n",
    "image_predictions_clean = image_predictions.copy()\n",
    "twitter_archive_clean = twitter_archive.copy()\n",
    "tweet_df_clean = tweet_df.copy()"
   ]
  },
  {
   "cell_type": "markdown",
   "metadata": {},
   "source": [
    "**Tidiness**"
   ]
  },
  {
   "cell_type": "markdown",
   "metadata": {},
   "source": [
    "Define:"
   ]
  },
  {
   "cell_type": "markdown",
   "metadata": {},
   "source": [
    "Merge tables into one using pd.merge"
   ]
  },
  {
   "cell_type": "markdown",
   "metadata": {},
   "source": [
    "Code:"
   ]
  },
  {
   "cell_type": "code",
   "execution_count": 52,
   "metadata": {},
   "outputs": [],
   "source": [
    "#merging the first two DataFrames\n",
    "twitter_archive_clean = pd.merge(left = twitter_archive_clean, right = tweet_df_clean, left_on = 'tweet_id', right_on = 'tweet_id', how = 'inner')\n"
   ]
  },
  {
   "cell_type": "code",
   "execution_count": 53,
   "metadata": {},
   "outputs": [],
   "source": [
    "#merging last DataFrame with other two\n",
    "twitter_archive_clean = twitter_archive_clean.merge(image_predictions_clean, on = 'tweet_id', how = 'inner')"
   ]
  },
  {
   "cell_type": "markdown",
   "metadata": {},
   "source": [
    "Test:"
   ]
  },
  {
   "cell_type": "code",
   "execution_count": 54,
   "metadata": {},
   "outputs": [
    {
     "data": {
      "text/plain": [
       "2059"
      ]
     },
     "execution_count": 54,
     "metadata": {},
     "output_type": "execute_result"
    }
   ],
   "source": [
    "twitter_archive_clean['tweet_id'].count()"
   ]
  },
  {
   "cell_type": "code",
   "execution_count": 55,
   "metadata": {},
   "outputs": [
    {
     "data": {
      "text/plain": [
       "Index(['tweet_id', 'in_reply_to_status_id', 'in_reply_to_user_id', 'timestamp',\n",
       "       'source', 'text', 'retweeted_status_id', 'retweeted_status_user_id',\n",
       "       'retweeted_status_timestamp', 'expanded_urls', 'rating_numerator',\n",
       "       'rating_denominator', 'name', 'doggo', 'floofer', 'pupper', 'puppo',\n",
       "       'favorites', 'retweets', 'date_time', 'jpg_url', 'img_num', 'p1',\n",
       "       'p1_conf', 'p1_dog', 'p2', 'p2_conf', 'p2_dog', 'p3', 'p3_conf',\n",
       "       'p3_dog'],\n",
       "      dtype='object')"
      ]
     },
     "execution_count": 55,
     "metadata": {},
     "output_type": "execute_result"
    }
   ],
   "source": [
    "twitter_archive_clean.columns"
   ]
  },
  {
   "cell_type": "markdown",
   "metadata": {},
   "source": [
    "Define:"
   ]
  },
  {
   "cell_type": "markdown",
   "metadata": {},
   "source": [
    "Use pd.melt to create one column from four dog description columns"
   ]
  },
  {
   "cell_type": "markdown",
   "metadata": {},
   "source": [
    "Code:"
   ]
  },
  {
   "cell_type": "code",
   "execution_count": 56,
   "metadata": {},
   "outputs": [
    {
     "data": {
      "text/plain": [
       "31"
      ]
     },
     "execution_count": 56,
     "metadata": {},
     "output_type": "execute_result"
    }
   ],
   "source": [
    "#finding total number of columnns\n",
    "len(twitter_archive_clean.columns)"
   ]
  },
  {
   "cell_type": "code",
   "execution_count": 57,
   "metadata": {},
   "outputs": [],
   "source": [
    "#creating variables for the different columns to melt\n",
    "dog_descriptions = list(twitter_archive_clean.iloc[:,13:17])\n",
    "other_columns = list(twitter_archive_clean.iloc[:,np.r_[0:13,17:c31]])"
   ]
  },
  {
   "cell_type": "code",
   "execution_count": 58,
   "metadata": {},
   "outputs": [],
   "source": [
    "#melting the dog description columns into one\n",
    "twitter_archive_clean = pd.melt(twitter_archive_clean, id_vars = other_columns, value_vars = dog_descriptions, var_name = 'description', value_name = 'dog_description')\n"
   ]
  },
  {
   "cell_type": "code",
   "execution_count": 59,
   "metadata": {},
   "outputs": [],
   "source": [
    "#dropping unnecessary var_name that was created\n",
    "twitter_archive_clean = twitter_archive_clean.drop('description', axis=1)"
   ]
  },
  {
   "cell_type": "code",
   "execution_count": 60,
   "metadata": {},
   "outputs": [
    {
     "data": {
      "text/plain": [
       "8236"
      ]
     },
     "execution_count": 60,
     "metadata": {},
     "output_type": "execute_result"
    }
   ],
   "source": [
    "#melting made duplicates\n",
    "twitter_archive_clean['tweet_id'].count()"
   ]
  },
  {
   "cell_type": "code",
   "execution_count": 61,
   "metadata": {},
   "outputs": [],
   "source": [
    "#dropping the duplicated tweets that were created from the pd.melt\n",
    "twitter_archive_clean = twitter_archive_clean.sort_values('dog_description').drop_duplicates('tweet_id', keep = 'last')\n"
   ]
  },
  {
   "cell_type": "markdown",
   "metadata": {},
   "source": [
    "Test:"
   ]
  },
  {
   "cell_type": "code",
   "execution_count": 62,
   "metadata": {},
   "outputs": [
    {
     "data": {
      "text/plain": [
       "2059"
      ]
     },
     "execution_count": 62,
     "metadata": {},
     "output_type": "execute_result"
    }
   ],
   "source": [
    "twitter_archive_clean['tweet_id'].count()"
   ]
  },
  {
   "cell_type": "code",
   "execution_count": 63,
   "metadata": {},
   "outputs": [
    {
     "data": {
      "text/plain": [
       "None       1741\n",
       "pupper      221\n",
       "doggo        65\n",
       "puppo        24\n",
       "floofer       8\n",
       "Name: dog_description, dtype: int64"
      ]
     },
     "execution_count": 63,
     "metadata": {},
     "output_type": "execute_result"
    }
   ],
   "source": [
    "twitter_archive_clean['dog_description'].value_counts()"
   ]
  },
  {
   "cell_type": "markdown",
   "metadata": {},
   "source": [
    "**Quality**"
   ]
  },
  {
   "cell_type": "markdown",
   "metadata": {},
   "source": [
    "Define:"
   ]
  },
  {
   "cell_type": "markdown",
   "metadata": {},
   "source": [
    "Drop retweets from dataframe"
   ]
  },
  {
   "cell_type": "markdown",
   "metadata": {},
   "source": [
    "Code:"
   ]
  },
  {
   "cell_type": "code",
   "execution_count": 65,
   "metadata": {},
   "outputs": [],
   "source": [
    "#only keeping rows that have retweet status as NaN\n",
    "twitter_archive_clean = twitter_archive_clean[np.isnan(twitter_archive_clean['retweeted_status_id'])]"
   ]
  },
  {
   "cell_type": "markdown",
   "metadata": {},
   "source": [
    "Test:"
   ]
  },
  {
   "cell_type": "code",
   "execution_count": 66,
   "metadata": {},
   "outputs": [
    {
     "data": {
      "text/plain": [
       "1987"
      ]
     },
     "execution_count": 66,
     "metadata": {},
     "output_type": "execute_result"
    }
   ],
   "source": [
    "twitter_archive_clean['tweet_id'].count()"
   ]
  },
  {
   "cell_type": "code",
   "execution_count": 67,
   "metadata": {},
   "outputs": [
    {
     "data": {
      "text/plain": [
       "Index(['tweet_id', 'in_reply_to_status_id', 'in_reply_to_user_id', 'timestamp',\n",
       "       'source', 'text', 'retweeted_status_id', 'retweeted_status_user_id',\n",
       "       'retweeted_status_timestamp', 'expanded_urls', 'rating_numerator',\n",
       "       'rating_denominator', 'name', 'favorites', 'retweets', 'date_time',\n",
       "       'jpg_url', 'img_num', 'p1', 'p1_conf', 'p1_dog', 'p2', 'p2_conf',\n",
       "       'p2_dog', 'p3', 'p3_conf', 'p3_dog', 'dog_description'],\n",
       "      dtype='object')"
      ]
     },
     "execution_count": 67,
     "metadata": {},
     "output_type": "execute_result"
    }
   ],
   "source": [
    "twitter_archive_clean.columns"
   ]
  },
  {
   "cell_type": "markdown",
   "metadata": {},
   "source": [
    "Define:"
   ]
  },
  {
   "cell_type": "markdown",
   "metadata": {},
   "source": [
    "Replace None in dog_description with NaN"
   ]
  },
  {
   "cell_type": "markdown",
   "metadata": {},
   "source": [
    "Code:"
   ]
  },
  {
   "cell_type": "code",
   "execution_count": 68,
   "metadata": {},
   "outputs": [],
   "source": [
    "#replacing Nones with NaN\n",
    "twitter_archive_clean['dog_description'] = twitter_archive_clean['dog_description'].replace('None',np.NaN)"
   ]
  },
  {
   "cell_type": "markdown",
   "metadata": {},
   "source": [
    "Test:"
   ]
  },
  {
   "cell_type": "code",
   "execution_count": 69,
   "metadata": {},
   "outputs": [
    {
     "data": {
      "text/plain": [
       "pupper     212\n",
       "doggo       62\n",
       "puppo       23\n",
       "floofer      8\n",
       "Name: dog_description, dtype: int64"
      ]
     },
     "execution_count": 69,
     "metadata": {},
     "output_type": "execute_result"
    }
   ],
   "source": [
    "twitter_archive_clean['dog_description'].value_counts()"
   ]
  },
  {
   "cell_type": "markdown",
   "metadata": {},
   "source": [
    "Define:"
   ]
  },
  {
   "cell_type": "markdown",
   "metadata": {},
   "source": [
    "Drop unnecessary columns from dataframe"
   ]
  },
  {
   "cell_type": "markdown",
   "metadata": {},
   "source": [
    "Code:"
   ]
  },
  {
   "cell_type": "code",
   "execution_count": 70,
   "metadata": {},
   "outputs": [],
   "source": [
    "#creating variable of columns we don't need using .iloc in combination with np.r_\n",
    "unnecessary_columns = list(twitter_archive_clean.iloc[:, np.r_[1:4,6:9,]])"
   ]
  },
  {
   "cell_type": "code",
   "execution_count": 71,
   "metadata": {},
   "outputs": [
    {
     "data": {
      "text/plain": [
       "['in_reply_to_status_id',\n",
       " 'in_reply_to_user_id',\n",
       " 'timestamp',\n",
       " 'retweeted_status_id',\n",
       " 'retweeted_status_user_id',\n",
       " 'retweeted_status_timestamp']"
      ]
     },
     "execution_count": 71,
     "metadata": {},
     "output_type": "execute_result"
    }
   ],
   "source": [
    "unnecessary_columns"
   ]
  },
  {
   "cell_type": "code",
   "execution_count": 72,
   "metadata": {},
   "outputs": [],
   "source": [
    "#dropping those columns\n",
    "twitter_archive_clean = twitter_archive_clean.drop(unnecessary_columns, axis = 1)"
   ]
  },
  {
   "cell_type": "markdown",
   "metadata": {},
   "source": [
    "Test:"
   ]
  },
  {
   "cell_type": "code",
   "execution_count": 73,
   "metadata": {},
   "outputs": [
    {
     "name": "stdout",
     "output_type": "stream",
     "text": [
      "<class 'pandas.core.frame.DataFrame'>\n",
      "Int64Index: 1987 entries, 1982 to 7053\n",
      "Data columns (total 22 columns):\n",
      " #   Column              Non-Null Count  Dtype  \n",
      "---  ------              --------------  -----  \n",
      " 0   tweet_id            1987 non-null   int64  \n",
      " 1   source              1987 non-null   object \n",
      " 2   text                1987 non-null   object \n",
      " 3   expanded_urls       1987 non-null   object \n",
      " 4   rating_numerator    1987 non-null   int64  \n",
      " 5   rating_denominator  1987 non-null   int64  \n",
      " 6   name                1987 non-null   object \n",
      " 7   favorites           1987 non-null   int64  \n",
      " 8   retweets            1987 non-null   int64  \n",
      " 9   date_time           1987 non-null   object \n",
      " 10  jpg_url             1987 non-null   object \n",
      " 11  img_num             1987 non-null   int64  \n",
      " 12  p1                  1987 non-null   object \n",
      " 13  p1_conf             1987 non-null   float64\n",
      " 14  p1_dog              1987 non-null   bool   \n",
      " 15  p2                  1987 non-null   object \n",
      " 16  p2_conf             1987 non-null   float64\n",
      " 17  p2_dog              1987 non-null   bool   \n",
      " 18  p3                  1987 non-null   object \n",
      " 19  p3_conf             1987 non-null   float64\n",
      " 20  p3_dog              1987 non-null   bool   \n",
      " 21  dog_description     305 non-null    object \n",
      "dtypes: bool(3), float64(3), int64(6), object(10)\n",
      "memory usage: 316.3+ KB\n"
     ]
    }
   ],
   "source": [
    "twitter_archive_clean.info()"
   ]
  },
  {
   "cell_type": "markdown",
   "metadata": {},
   "source": [
    "Define:"
   ]
  },
  {
   "cell_type": "markdown",
   "metadata": {},
   "source": [
    "Define a function that can pull just the first dog breed that is in fact a dog breed and has the highest confidence, which is the first dog breed that is in fact a dog breed"
   ]
  },
  {
   "cell_type": "markdown",
   "metadata": {},
   "source": [
    "Code:"
   ]
  },
  {
   "cell_type": "code",
   "execution_count": 74,
   "metadata": {},
   "outputs": [],
   "source": [
    "#defining function that will select the first actual dog breed, which is also the most confident prediction, or \n",
    "#appending NaN, if there isn't a good prediction\n",
    "dog_breed = []\n",
    "\n",
    "def breed(df):\n",
    "    if df['p1_dog'] == True:\n",
    "        dog_breed.append(df['p1'])\n",
    "    elif df['p2_dog'] == True:\n",
    "        dog_breed.append(df['p2'])\n",
    "    elif df['p3_dog'] == True:\n",
    "        dog_breed.append(df['p3'])\n",
    "    else:\n",
    "        dog_breed.append(np.NaN)"
   ]
  },
  {
   "cell_type": "code",
   "execution_count": 75,
   "metadata": {},
   "outputs": [],
   "source": [
    "#applying the function to the DataFrame\n",
    "twitter_archive_clean.apply(breed,axis=1);"
   ]
  },
  {
   "cell_type": "code",
   "execution_count": 76,
   "metadata": {},
   "outputs": [],
   "source": [
    "#creating the new dog_breed column\n",
    "twitter_archive_clean['dog_breed'] = dog_breed"
   ]
  },
  {
   "cell_type": "code",
   "execution_count": 77,
   "metadata": {},
   "outputs": [],
   "source": [
    "#making all the breeds lowercase, so that they're consistent\n",
    "twitter_archive_clean['dog_breed'] = twitter_archive_clean['dog_breed'].str.lower()"
   ]
  },
  {
   "cell_type": "code",
   "execution_count": 78,
   "metadata": {},
   "outputs": [],
   "source": [
    "#selecting the prediction columns that are no longer needed\n",
    "drop_prediction_columns = list(twitter_archive_clean.iloc[:, 12:21])"
   ]
  },
  {
   "cell_type": "code",
   "execution_count": 79,
   "metadata": {},
   "outputs": [
    {
     "data": {
      "text/plain": [
       "['p1',\n",
       " 'p1_conf',\n",
       " 'p1_dog',\n",
       " 'p2',\n",
       " 'p2_conf',\n",
       " 'p2_dog',\n",
       " 'p3',\n",
       " 'p3_conf',\n",
       " 'p3_dog']"
      ]
     },
     "execution_count": 79,
     "metadata": {},
     "output_type": "execute_result"
    }
   ],
   "source": [
    "drop_prediction_columns"
   ]
  },
  {
   "cell_type": "code",
   "execution_count": 80,
   "metadata": {},
   "outputs": [],
   "source": [
    "#dropping those columns\n",
    "twitter_archive_clean = twitter_archive_clean.drop(drop_prediction_columns, axis = 1)"
   ]
  },
  {
   "cell_type": "markdown",
   "metadata": {},
   "source": [
    "Test:"
   ]
  },
  {
   "cell_type": "code",
   "execution_count": 81,
   "metadata": {},
   "outputs": [
    {
     "name": "stdout",
     "output_type": "stream",
     "text": [
      "<class 'pandas.core.frame.DataFrame'>\n",
      "Int64Index: 1987 entries, 1982 to 7053\n",
      "Data columns (total 14 columns):\n",
      " #   Column              Non-Null Count  Dtype \n",
      "---  ------              --------------  ----- \n",
      " 0   tweet_id            1987 non-null   int64 \n",
      " 1   source              1987 non-null   object\n",
      " 2   text                1987 non-null   object\n",
      " 3   expanded_urls       1987 non-null   object\n",
      " 4   rating_numerator    1987 non-null   int64 \n",
      " 5   rating_denominator  1987 non-null   int64 \n",
      " 6   name                1987 non-null   object\n",
      " 7   favorites           1987 non-null   int64 \n",
      " 8   retweets            1987 non-null   int64 \n",
      " 9   date_time           1987 non-null   object\n",
      " 10  jpg_url             1987 non-null   object\n",
      " 11  img_num             1987 non-null   int64 \n",
      " 12  dog_description     305 non-null    object\n",
      " 13  dog_breed           1679 non-null   object\n",
      "dtypes: int64(6), object(8)\n",
      "memory usage: 232.9+ KB\n"
     ]
    }
   ],
   "source": [
    "twitter_archive_clean.info()"
   ]
  },
  {
   "cell_type": "markdown",
   "metadata": {},
   "source": [
    "Define:"
   ]
  },
  {
   "cell_type": "markdown",
   "metadata": {},
   "source": [
    "Clean date_time column by cutting off the +00:00 at the end and making date_time data type"
   ]
  },
  {
   "cell_type": "markdown",
   "metadata": {},
   "source": [
    "Code:"
   ]
  },
  {
   "cell_type": "code",
   "execution_count": 82,
   "metadata": {},
   "outputs": [],
   "source": [
    "#stripping unneeded portion from date_time column\n",
    "twitter_archive_clean['date_time'] = twitter_archive_clean['date_time'].str[:-6]"
   ]
  },
  {
   "cell_type": "code",
   "execution_count": 83,
   "metadata": {},
   "outputs": [],
   "source": [
    "#changing data type to date_time\n",
    "twitter_archive_clean['date_time'] = pd.to_datetime(twitter_archive_clean['date_time'])"
   ]
  },
  {
   "cell_type": "markdown",
   "metadata": {},
   "source": [
    "Test:"
   ]
  },
  {
   "cell_type": "code",
   "execution_count": 84,
   "metadata": {},
   "outputs": [
    {
     "data": {
      "text/plain": [
       "1982   2015-11-19 20:14:03\n",
       "1981   2015-11-19 20:20:22\n",
       "1980   2015-11-19 20:44:47\n",
       "1979   2015-11-19 21:22:56\n",
       "1978   2015-11-19 21:32:34\n",
       "               ...        \n",
       "6189   2017-07-25 01:55:32\n",
       "6314   2017-05-03 03:17:27\n",
       "6497   2017-01-21 18:26:02\n",
       "6918   2016-07-21 23:53:04\n",
       "7053   2016-06-03 01:07:16\n",
       "Name: date_time, Length: 1987, dtype: datetime64[ns]"
      ]
     },
     "execution_count": 84,
     "metadata": {},
     "output_type": "execute_result"
    }
   ],
   "source": [
    "twitter_archive_clean['date_time']"
   ]
  },
  {
   "cell_type": "markdown",
   "metadata": {},
   "source": [
    "Define:"
   ]
  },
  {
   "cell_type": "markdown",
   "metadata": {},
   "source": [
    "Clean source column by dropping everything but the actual source by using regex."
   ]
  },
  {
   "cell_type": "markdown",
   "metadata": {},
   "source": [
    "Code:"
   ]
  },
  {
   "cell_type": "code",
   "execution_count": 85,
   "metadata": {},
   "outputs": [],
   "source": [
    "#using regex to extract only the true source and then saving it as the new source column\n",
    "twitter_archive_clean['source'] = twitter_archive_clean['source'].str.extract(r'.*>(.*)<.*')"
   ]
  },
  {
   "cell_type": "markdown",
   "metadata": {},
   "source": [
    "Test:"
   ]
  },
  {
   "cell_type": "code",
   "execution_count": 86,
   "metadata": {},
   "outputs": [
    {
     "data": {
      "text/html": [
       "<div>\n",
       "<style scoped>\n",
       "    .dataframe tbody tr th:only-of-type {\n",
       "        vertical-align: middle;\n",
       "    }\n",
       "\n",
       "    .dataframe tbody tr th {\n",
       "        vertical-align: top;\n",
       "    }\n",
       "\n",
       "    .dataframe thead th {\n",
       "        text-align: right;\n",
       "    }\n",
       "</style>\n",
       "<table border=\"1\" class=\"dataframe\">\n",
       "  <thead>\n",
       "    <tr style=\"text-align: right;\">\n",
       "      <th></th>\n",
       "      <th>tweet_id</th>\n",
       "      <th>source</th>\n",
       "      <th>text</th>\n",
       "      <th>expanded_urls</th>\n",
       "      <th>rating_numerator</th>\n",
       "      <th>rating_denominator</th>\n",
       "      <th>name</th>\n",
       "      <th>favorites</th>\n",
       "      <th>retweets</th>\n",
       "      <th>date_time</th>\n",
       "      <th>jpg_url</th>\n",
       "      <th>img_num</th>\n",
       "      <th>dog_description</th>\n",
       "      <th>dog_breed</th>\n",
       "    </tr>\n",
       "  </thead>\n",
       "  <tbody>\n",
       "    <tr>\n",
       "      <th>1982</th>\n",
       "      <td>667435689202614272</td>\n",
       "      <td>Twitter for iPhone</td>\n",
       "      <td>Ermergerd 12/10 https://t.co/PQni2sjPsm</td>\n",
       "      <td>https://twitter.com/dog_rates/status/667435689...</td>\n",
       "      <td>12</td>\n",
       "      <td>10</td>\n",
       "      <td>None</td>\n",
       "      <td>289</td>\n",
       "      <td>79</td>\n",
       "      <td>2015-11-19 20:14:03</td>\n",
       "      <td>https://pbs.twimg.com/media/CUM1OHCW4AEgGSi.jpg</td>\n",
       "      <td>1</td>\n",
       "      <td>NaN</td>\n",
       "      <td>rottweiler</td>\n",
       "    </tr>\n",
       "    <tr>\n",
       "      <th>1981</th>\n",
       "      <td>667437278097252352</td>\n",
       "      <td>Twitter for iPhone</td>\n",
       "      <td>Never seen this breed before. Very pointy pup....</td>\n",
       "      <td>https://twitter.com/dog_rates/status/667437278...</td>\n",
       "      <td>10</td>\n",
       "      <td>10</td>\n",
       "      <td>None</td>\n",
       "      <td>423</td>\n",
       "      <td>219</td>\n",
       "      <td>2015-11-19 20:20:22</td>\n",
       "      <td>https://pbs.twimg.com/media/CUM2qWaWoAUZ06L.jpg</td>\n",
       "      <td>1</td>\n",
       "      <td>NaN</td>\n",
       "      <td>NaN</td>\n",
       "    </tr>\n",
       "    <tr>\n",
       "      <th>1980</th>\n",
       "      <td>667443425659232256</td>\n",
       "      <td>Twitter for iPhone</td>\n",
       "      <td>Exotic dog here. Long neck. Weird paws. Obsess...</td>\n",
       "      <td>https://twitter.com/dog_rates/status/667443425...</td>\n",
       "      <td>6</td>\n",
       "      <td>10</td>\n",
       "      <td>None</td>\n",
       "      <td>733</td>\n",
       "      <td>538</td>\n",
       "      <td>2015-11-19 20:44:47</td>\n",
       "      <td>https://pbs.twimg.com/media/CUM8QZwW4AAVsBl.jpg</td>\n",
       "      <td>1</td>\n",
       "      <td>NaN</td>\n",
       "      <td>NaN</td>\n",
       "    </tr>\n",
       "    <tr>\n",
       "      <th>1979</th>\n",
       "      <td>667453023279554560</td>\n",
       "      <td>Twitter Web Client</td>\n",
       "      <td>Meet Cupcake. I would do unspeakable things fo...</td>\n",
       "      <td>https://twitter.com/dog_rates/status/667453023...</td>\n",
       "      <td>11</td>\n",
       "      <td>10</td>\n",
       "      <td>Cupcake</td>\n",
       "      <td>296</td>\n",
       "      <td>81</td>\n",
       "      <td>2015-11-19 21:22:56</td>\n",
       "      <td>https://pbs.twimg.com/media/CUNE_OSUwAAdHhX.jpg</td>\n",
       "      <td>1</td>\n",
       "      <td>NaN</td>\n",
       "      <td>labrador_retriever</td>\n",
       "    </tr>\n",
       "    <tr>\n",
       "      <th>1978</th>\n",
       "      <td>667455448082227200</td>\n",
       "      <td>Twitter Web Client</td>\n",
       "      <td>This is Reese and Twips. Reese protects Twips....</td>\n",
       "      <td>https://twitter.com/dog_rates/status/667455448...</td>\n",
       "      <td>7</td>\n",
       "      <td>10</td>\n",
       "      <td>Reese</td>\n",
       "      <td>179</td>\n",
       "      <td>56</td>\n",
       "      <td>2015-11-19 21:32:34</td>\n",
       "      <td>https://pbs.twimg.com/media/CUNHMXTU8AAS3HH.jpg</td>\n",
       "      <td>1</td>\n",
       "      <td>NaN</td>\n",
       "      <td>tibetan_terrier</td>\n",
       "    </tr>\n",
       "  </tbody>\n",
       "</table>\n",
       "</div>"
      ],
      "text/plain": [
       "                tweet_id              source  \\\n",
       "1982  667435689202614272  Twitter for iPhone   \n",
       "1981  667437278097252352  Twitter for iPhone   \n",
       "1980  667443425659232256  Twitter for iPhone   \n",
       "1979  667453023279554560  Twitter Web Client   \n",
       "1978  667455448082227200  Twitter Web Client   \n",
       "\n",
       "                                                   text  \\\n",
       "1982            Ermergerd 12/10 https://t.co/PQni2sjPsm   \n",
       "1981  Never seen this breed before. Very pointy pup....   \n",
       "1980  Exotic dog here. Long neck. Weird paws. Obsess...   \n",
       "1979  Meet Cupcake. I would do unspeakable things fo...   \n",
       "1978  This is Reese and Twips. Reese protects Twips....   \n",
       "\n",
       "                                          expanded_urls  rating_numerator  \\\n",
       "1982  https://twitter.com/dog_rates/status/667435689...                12   \n",
       "1981  https://twitter.com/dog_rates/status/667437278...                10   \n",
       "1980  https://twitter.com/dog_rates/status/667443425...                 6   \n",
       "1979  https://twitter.com/dog_rates/status/667453023...                11   \n",
       "1978  https://twitter.com/dog_rates/status/667455448...                 7   \n",
       "\n",
       "      rating_denominator     name  favorites  retweets           date_time  \\\n",
       "1982                  10     None        289        79 2015-11-19 20:14:03   \n",
       "1981                  10     None        423       219 2015-11-19 20:20:22   \n",
       "1980                  10     None        733       538 2015-11-19 20:44:47   \n",
       "1979                  10  Cupcake        296        81 2015-11-19 21:22:56   \n",
       "1978                  10    Reese        179        56 2015-11-19 21:32:34   \n",
       "\n",
       "                                              jpg_url  img_num  \\\n",
       "1982  https://pbs.twimg.com/media/CUM1OHCW4AEgGSi.jpg        1   \n",
       "1981  https://pbs.twimg.com/media/CUM2qWaWoAUZ06L.jpg        1   \n",
       "1980  https://pbs.twimg.com/media/CUM8QZwW4AAVsBl.jpg        1   \n",
       "1979  https://pbs.twimg.com/media/CUNE_OSUwAAdHhX.jpg        1   \n",
       "1978  https://pbs.twimg.com/media/CUNHMXTU8AAS3HH.jpg        1   \n",
       "\n",
       "     dog_description           dog_breed  \n",
       "1982             NaN          rottweiler  \n",
       "1981             NaN                 NaN  \n",
       "1980             NaN                 NaN  \n",
       "1979             NaN  labrador_retriever  \n",
       "1978             NaN     tibetan_terrier  "
      ]
     },
     "execution_count": 86,
     "metadata": {},
     "output_type": "execute_result"
    }
   ],
   "source": [
    "twitter_archive_clean.head()"
   ]
  },
  {
   "cell_type": "markdown",
   "metadata": {},
   "source": [
    "Define:"
   ]
  },
  {
   "cell_type": "markdown",
   "metadata": {},
   "source": [
    "Fix dog names by dropping the lower case words that were mistakenly extracted as dog names by defining a function to pull these names from the dataframe"
   ]
  },
  {
   "cell_type": "markdown",
   "metadata": {},
   "source": [
    "Code:"
   ]
  },
  {
   "cell_type": "code",
   "execution_count": 87,
   "metadata": {},
   "outputs": [],
   "source": [
    "#defining a function that will pull a name that is in lowercase and append to the not_names list\n",
    "not_names = []\n",
    "\n",
    "def name(df):\n",
    "    if df['name'].islower() and df['name'] not in not_names:\n",
    "        not_names.append(df['name'])"
   ]
  },
  {
   "cell_type": "code",
   "execution_count": 88,
   "metadata": {},
   "outputs": [],
   "source": [
    "#applying to DataFrame\n",
    "twitter_archive_clean.apply(name, axis = 1);"
   ]
  },
  {
   "cell_type": "code",
   "execution_count": 89,
   "metadata": {},
   "outputs": [
    {
     "data": {
      "text/plain": [
       "['a',\n",
       " 'an',\n",
       " 'quite',\n",
       " 'the',\n",
       " 'such',\n",
       " 'getting',\n",
       " 'actually',\n",
       " 'infuriating',\n",
       " 'very',\n",
       " 'light',\n",
       " 'space',\n",
       " 'just',\n",
       " 'by',\n",
       " 'officially',\n",
       " 'incredibly',\n",
       " 'one',\n",
       " 'my',\n",
       " 'not',\n",
       " 'this',\n",
       " 'unacceptable',\n",
       " 'his',\n",
       " 'all',\n",
       " 'None']"
      ]
     },
     "execution_count": 89,
     "metadata": {},
     "output_type": "execute_result"
    }
   ],
   "source": [
    "#adding None to not_name list as well\n",
    "not_names.append('None')\n",
    "not_names"
   ]
  },
  {
   "cell_type": "code",
   "execution_count": 90,
   "metadata": {},
   "outputs": [],
   "source": [
    "#replace the names that aren't actually names with NaN\n",
    "twitter_archive_clean['name'] = twitter_archive_clean['name'].replace(not_names,np.NaN)"
   ]
  },
  {
   "cell_type": "markdown",
   "metadata": {},
   "source": [
    "Test:"
   ]
  },
  {
   "cell_type": "code",
   "execution_count": 91,
   "metadata": {},
   "outputs": [
    {
     "data": {
      "text/plain": [
       "Cooper      10\n",
       "Oliver      10\n",
       "Charlie     10\n",
       "Penny        9\n",
       "Tucker       9\n",
       "            ..\n",
       "Sonny        1\n",
       "Asher        1\n",
       "Tater        1\n",
       "Juckson      1\n",
       "Napolean     1\n",
       "Name: name, Length: 911, dtype: int64"
      ]
     },
     "execution_count": 91,
     "metadata": {},
     "output_type": "execute_result"
    }
   ],
   "source": [
    "twitter_archive_clean.name.value_counts()"
   ]
  },
  {
   "cell_type": "markdown",
   "metadata": {},
   "source": [
    "Define:"
   ]
  },
  {
   "cell_type": "markdown",
   "metadata": {},
   "source": [
    "Drop the tweets with denominators that don't fit the usual standards, i.e. those that aren't 10"
   ]
  },
  {
   "cell_type": "markdown",
   "metadata": {},
   "source": [
    "Code:"
   ]
  },
  {
   "cell_type": "code",
   "execution_count": 92,
   "metadata": {},
   "outputs": [],
   "source": [
    "#set the DataFrame to only include denominators that are 10\n",
    "twitter_archive_clean = twitter_archive_clean[twitter_archive_clean['rating_denominator'] == 10]"
   ]
  },
  {
   "cell_type": "markdown",
   "metadata": {},
   "source": [
    "Test:"
   ]
  },
  {
   "cell_type": "code",
   "execution_count": 93,
   "metadata": {},
   "outputs": [
    {
     "data": {
      "text/plain": [
       "10    1969\n",
       "Name: rating_denominator, dtype: int64"
      ]
     },
     "execution_count": 93,
     "metadata": {},
     "output_type": "execute_result"
    }
   ],
   "source": [
    "twitter_archive_clean['rating_denominator'].value_counts()"
   ]
  },
  {
   "cell_type": "markdown",
   "metadata": {},
   "source": [
    "Define:"
   ]
  },
  {
   "cell_type": "markdown",
   "metadata": {},
   "source": [
    "Using regex find the numerators with decimals that weren't pulled correctly and then updated these in the dataframe"
   ]
  },
  {
   "cell_type": "markdown",
   "metadata": {},
   "source": [
    "Code:"
   ]
  },
  {
   "cell_type": "code",
   "execution_count": 94,
   "metadata": {},
   "outputs": [],
   "source": [
    "twitter_archive_clean.sort_index(inplace = True)"
   ]
  },
  {
   "cell_type": "code",
   "execution_count": 140,
   "metadata": {},
   "outputs": [],
   "source": [
    "#using regex to find the rows that have rating with decimals, also filtering the warning for the regex\n",
    "twitter_archive_clean[twitter_archive_clean['text'].str.contains(r'.*(\\d+\\.\\d+/\\d+).*')]\n",
    "warnings.filterwarnings(\"ignore\", 'This pattern has match groups')"
   ]
  },
  {
   "cell_type": "markdown",
   "metadata": {},
   "source": [
    "Source: https://stackoverflow.com/questions/39901550/python-userwarning-this-pattern-has-match-groups-to-actually-get-the-groups"
   ]
  },
  {
   "cell_type": "code",
   "execution_count": 96,
   "metadata": {},
   "outputs": [],
   "source": [
    "#using .loc to select these rows, then updating them to the correct rating\n",
    "twitter_archive_clean.loc[40,'rating_numerator'] = twitter_archive_clean.loc[40,'rating_numerator'] = 13.5\n",
    "twitter_archive_clean.loc[2607,'rating_numerator'] = twitter_archive_clean.loc[2607,'rating_numerator'] = 9.75\n",
    "twitter_archive_clean.loc[3497,'rating_numerator'] = twitter_archive_clean.loc[3497,'rating_numerator'] = 11.26\n",
    "twitter_archive_clean.loc[4721,'rating_numerator'] = twitter_archive_clean.loc[4721,'rating_numerator'] = 11.27"
   ]
  },
  {
   "cell_type": "markdown",
   "metadata": {},
   "source": [
    "Test:"
   ]
  },
  {
   "cell_type": "code",
   "execution_count": 97,
   "metadata": {},
   "outputs": [
    {
     "data": {
      "text/html": [
       "<div>\n",
       "<style scoped>\n",
       "    .dataframe tbody tr th:only-of-type {\n",
       "        vertical-align: middle;\n",
       "    }\n",
       "\n",
       "    .dataframe tbody tr th {\n",
       "        vertical-align: top;\n",
       "    }\n",
       "\n",
       "    .dataframe thead th {\n",
       "        text-align: right;\n",
       "    }\n",
       "</style>\n",
       "<table border=\"1\" class=\"dataframe\">\n",
       "  <thead>\n",
       "    <tr style=\"text-align: right;\">\n",
       "      <th></th>\n",
       "      <th>tweet_id</th>\n",
       "      <th>source</th>\n",
       "      <th>text</th>\n",
       "      <th>expanded_urls</th>\n",
       "      <th>rating_numerator</th>\n",
       "      <th>rating_denominator</th>\n",
       "      <th>name</th>\n",
       "      <th>favorites</th>\n",
       "      <th>retweets</th>\n",
       "      <th>date_time</th>\n",
       "      <th>jpg_url</th>\n",
       "      <th>img_num</th>\n",
       "      <th>dog_description</th>\n",
       "      <th>dog_breed</th>\n",
       "    </tr>\n",
       "  </thead>\n",
       "  <tbody>\n",
       "    <tr>\n",
       "      <th>40</th>\n",
       "      <td>883482846933004288</td>\n",
       "      <td>Twitter for iPhone</td>\n",
       "      <td>This is Bella. She hopes her smile made you sm...</td>\n",
       "      <td>https://twitter.com/dog_rates/status/883482846...</td>\n",
       "      <td>13.50</td>\n",
       "      <td>10</td>\n",
       "      <td>Bella</td>\n",
       "      <td>42276</td>\n",
       "      <td>8818</td>\n",
       "      <td>2017-07-08 00:28:19</td>\n",
       "      <td>https://pbs.twimg.com/media/DELC9dZXUAADqUk.jpg</td>\n",
       "      <td>1</td>\n",
       "      <td>NaN</td>\n",
       "      <td>golden_retriever</td>\n",
       "    </tr>\n",
       "    <tr>\n",
       "      <th>2607</th>\n",
       "      <td>786709082849828864</td>\n",
       "      <td>Twitter for iPhone</td>\n",
       "      <td>This is Logan, the Chow who lived. He solemnly...</td>\n",
       "      <td>https://twitter.com/dog_rates/status/786709082...</td>\n",
       "      <td>9.75</td>\n",
       "      <td>10</td>\n",
       "      <td>Logan</td>\n",
       "      <td>18229</td>\n",
       "      <td>6119</td>\n",
       "      <td>2016-10-13 23:23:56</td>\n",
       "      <td>https://pbs.twimg.com/media/CurzvFTXgAA2_AP.jpg</td>\n",
       "      <td>1</td>\n",
       "      <td>NaN</td>\n",
       "      <td>pomeranian</td>\n",
       "    </tr>\n",
       "    <tr>\n",
       "      <th>3497</th>\n",
       "      <td>680494726643068929</td>\n",
       "      <td>Twitter for iPhone</td>\n",
       "      <td>Here we have uncovered an entire battalion of ...</td>\n",
       "      <td>https://twitter.com/dog_rates/status/680494726...</td>\n",
       "      <td>11.26</td>\n",
       "      <td>10</td>\n",
       "      <td>NaN</td>\n",
       "      <td>1675</td>\n",
       "      <td>471</td>\n",
       "      <td>2015-12-25 21:06:00</td>\n",
       "      <td>https://pbs.twimg.com/media/CXGaVxOWAAADjhF.jpg</td>\n",
       "      <td>1</td>\n",
       "      <td>NaN</td>\n",
       "      <td>kuvasz</td>\n",
       "    </tr>\n",
       "    <tr>\n",
       "      <th>4721</th>\n",
       "      <td>778027034220126208</td>\n",
       "      <td>Twitter for iPhone</td>\n",
       "      <td>This is Sophie. She's a Jubilant Bush Pupper. ...</td>\n",
       "      <td>https://twitter.com/dog_rates/status/778027034...</td>\n",
       "      <td>11.27</td>\n",
       "      <td>10</td>\n",
       "      <td>Sophie</td>\n",
       "      <td>6517</td>\n",
       "      <td>1596</td>\n",
       "      <td>2016-09-20 00:24:34</td>\n",
       "      <td>https://pbs.twimg.com/media/Cswbc2yWcAAVsCJ.jpg</td>\n",
       "      <td>1</td>\n",
       "      <td>pupper</td>\n",
       "      <td>clumber</td>\n",
       "    </tr>\n",
       "  </tbody>\n",
       "</table>\n",
       "</div>"
      ],
      "text/plain": [
       "                tweet_id              source  \\\n",
       "40    883482846933004288  Twitter for iPhone   \n",
       "2607  786709082849828864  Twitter for iPhone   \n",
       "3497  680494726643068929  Twitter for iPhone   \n",
       "4721  778027034220126208  Twitter for iPhone   \n",
       "\n",
       "                                                   text  \\\n",
       "40    This is Bella. She hopes her smile made you sm...   \n",
       "2607  This is Logan, the Chow who lived. He solemnly...   \n",
       "3497  Here we have uncovered an entire battalion of ...   \n",
       "4721  This is Sophie. She's a Jubilant Bush Pupper. ...   \n",
       "\n",
       "                                          expanded_urls  rating_numerator  \\\n",
       "40    https://twitter.com/dog_rates/status/883482846...             13.50   \n",
       "2607  https://twitter.com/dog_rates/status/786709082...              9.75   \n",
       "3497  https://twitter.com/dog_rates/status/680494726...             11.26   \n",
       "4721  https://twitter.com/dog_rates/status/778027034...             11.27   \n",
       "\n",
       "      rating_denominator    name  favorites  retweets           date_time  \\\n",
       "40                    10   Bella      42276      8818 2017-07-08 00:28:19   \n",
       "2607                  10   Logan      18229      6119 2016-10-13 23:23:56   \n",
       "3497                  10     NaN       1675       471 2015-12-25 21:06:00   \n",
       "4721                  10  Sophie       6517      1596 2016-09-20 00:24:34   \n",
       "\n",
       "                                              jpg_url  img_num  \\\n",
       "40    https://pbs.twimg.com/media/DELC9dZXUAADqUk.jpg        1   \n",
       "2607  https://pbs.twimg.com/media/CurzvFTXgAA2_AP.jpg        1   \n",
       "3497  https://pbs.twimg.com/media/CXGaVxOWAAADjhF.jpg        1   \n",
       "4721  https://pbs.twimg.com/media/Cswbc2yWcAAVsCJ.jpg        1   \n",
       "\n",
       "     dog_description         dog_breed  \n",
       "40               NaN  golden_retriever  \n",
       "2607             NaN        pomeranian  \n",
       "3497             NaN            kuvasz  \n",
       "4721          pupper           clumber  "
      ]
     },
     "execution_count": 97,
     "metadata": {},
     "output_type": "execute_result"
    }
   ],
   "source": [
    "#using .loc with np.r_ to check they were saved\n",
    "twitter_archive_clean.loc[np.r_[40,2607,3497,4721]]"
   ]
  },
  {
   "cell_type": "markdown",
   "metadata": {},
   "source": [
    "Define:"
   ]
  },
  {
   "cell_type": "markdown",
   "metadata": {},
   "source": [
    "Drop the numerators over 20, because they don't fit the normal rating convention"
   ]
  },
  {
   "cell_type": "markdown",
   "metadata": {},
   "source": [
    "Code:"
   ]
  },
  {
   "cell_type": "code",
   "execution_count": 98,
   "metadata": {},
   "outputs": [
    {
     "data": {
      "text/html": [
       "<div>\n",
       "<style scoped>\n",
       "    .dataframe tbody tr th:only-of-type {\n",
       "        vertical-align: middle;\n",
       "    }\n",
       "\n",
       "    .dataframe tbody tr th {\n",
       "        vertical-align: top;\n",
       "    }\n",
       "\n",
       "    .dataframe thead th {\n",
       "        text-align: right;\n",
       "    }\n",
       "</style>\n",
       "<table border=\"1\" class=\"dataframe\">\n",
       "  <thead>\n",
       "    <tr style=\"text-align: right;\">\n",
       "      <th></th>\n",
       "      <th>tweet_id</th>\n",
       "      <th>source</th>\n",
       "      <th>text</th>\n",
       "      <th>expanded_urls</th>\n",
       "      <th>rating_numerator</th>\n",
       "      <th>rating_denominator</th>\n",
       "      <th>name</th>\n",
       "      <th>favorites</th>\n",
       "      <th>retweets</th>\n",
       "      <th>date_time</th>\n",
       "      <th>jpg_url</th>\n",
       "      <th>img_num</th>\n",
       "      <th>dog_description</th>\n",
       "      <th>dog_breed</th>\n",
       "    </tr>\n",
       "  </thead>\n",
       "  <tbody>\n",
       "    <tr>\n",
       "      <th>2848</th>\n",
       "      <td>749981277374128128</td>\n",
       "      <td>TweetDeck</td>\n",
       "      <td>This is Atticus. He's quite simply America af....</td>\n",
       "      <td>https://twitter.com/dog_rates/status/749981277...</td>\n",
       "      <td>1776.0</td>\n",
       "      <td>10</td>\n",
       "      <td>Atticus</td>\n",
       "      <td>5047</td>\n",
       "      <td>2418</td>\n",
       "      <td>2016-07-04 15:00:45</td>\n",
       "      <td>https://pbs.twimg.com/media/CmgBZ7kWcAAlzFD.jpg</td>\n",
       "      <td>1</td>\n",
       "      <td>NaN</td>\n",
       "      <td>NaN</td>\n",
       "    </tr>\n",
       "    <tr>\n",
       "      <th>3840</th>\n",
       "      <td>670842764863651840</td>\n",
       "      <td>Twitter for iPhone</td>\n",
       "      <td>After so many requests... here you go.\\n\\nGood...</td>\n",
       "      <td>https://twitter.com/dog_rates/status/670842764...</td>\n",
       "      <td>420.0</td>\n",
       "      <td>10</td>\n",
       "      <td>NaN</td>\n",
       "      <td>23317</td>\n",
       "      <td>8117</td>\n",
       "      <td>2015-11-29 05:52:33</td>\n",
       "      <td>https://pbs.twimg.com/media/CU9P717W4AAOlKx.jpg</td>\n",
       "      <td>1</td>\n",
       "      <td>NaN</td>\n",
       "      <td>NaN</td>\n",
       "    </tr>\n",
       "  </tbody>\n",
       "</table>\n",
       "</div>"
      ],
      "text/plain": [
       "                tweet_id              source  \\\n",
       "2848  749981277374128128           TweetDeck   \n",
       "3840  670842764863651840  Twitter for iPhone   \n",
       "\n",
       "                                                   text  \\\n",
       "2848  This is Atticus. He's quite simply America af....   \n",
       "3840  After so many requests... here you go.\\n\\nGood...   \n",
       "\n",
       "                                          expanded_urls  rating_numerator  \\\n",
       "2848  https://twitter.com/dog_rates/status/749981277...            1776.0   \n",
       "3840  https://twitter.com/dog_rates/status/670842764...             420.0   \n",
       "\n",
       "      rating_denominator     name  favorites  retweets           date_time  \\\n",
       "2848                  10  Atticus       5047      2418 2016-07-04 15:00:45   \n",
       "3840                  10      NaN      23317      8117 2015-11-29 05:52:33   \n",
       "\n",
       "                                              jpg_url  img_num  \\\n",
       "2848  https://pbs.twimg.com/media/CmgBZ7kWcAAlzFD.jpg        1   \n",
       "3840  https://pbs.twimg.com/media/CU9P717W4AAOlKx.jpg        1   \n",
       "\n",
       "     dog_description dog_breed  \n",
       "2848             NaN       NaN  \n",
       "3840             NaN       NaN  "
      ]
     },
     "execution_count": 98,
     "metadata": {},
     "output_type": "execute_result"
    }
   ],
   "source": [
    "#create series of numerators over 20\n",
    "numerators_over20 = twitter_archive_clean[twitter_archive_clean['rating_numerator'] > 20]\n",
    "numerators_over20"
   ]
  },
  {
   "cell_type": "code",
   "execution_count": 99,
   "metadata": {},
   "outputs": [],
   "source": [
    "#dropping the two that are over 20\n",
    "twitter_archive_clean = twitter_archive_clean.drop([2848, 3840])"
   ]
  },
  {
   "cell_type": "markdown",
   "metadata": {},
   "source": [
    "Test:"
   ]
  },
  {
   "cell_type": "code",
   "execution_count": 100,
   "metadata": {},
   "outputs": [
    {
     "data": {
      "text/plain": [
       "12.00    448\n",
       "10.00    418\n",
       "11.00    396\n",
       "13.00    257\n",
       "9.00     150\n",
       "8.00      95\n",
       "7.00      51\n",
       "14.00     35\n",
       "5.00      32\n",
       "6.00      32\n",
       "3.00      19\n",
       "4.00      15\n",
       "2.00       9\n",
       "1.00       4\n",
       "0.00       2\n",
       "11.26      1\n",
       "13.50      1\n",
       "9.75       1\n",
       "11.27      1\n",
       "Name: rating_numerator, dtype: int64"
      ]
     },
     "execution_count": 100,
     "metadata": {},
     "output_type": "execute_result"
    }
   ],
   "source": [
    "twitter_archive_clean['rating_numerator'].value_counts()"
   ]
  },
  {
   "cell_type": "markdown",
   "metadata": {},
   "source": [
    "Define:"
   ]
  },
  {
   "cell_type": "markdown",
   "metadata": {},
   "source": [
    "Fix data types by assigning them to types that make more sense for this data"
   ]
  },
  {
   "cell_type": "markdown",
   "metadata": {},
   "source": [
    "Code:"
   ]
  },
  {
   "cell_type": "code",
   "execution_count": 101,
   "metadata": {},
   "outputs": [
    {
     "name": "stdout",
     "output_type": "stream",
     "text": [
      "<class 'pandas.core.frame.DataFrame'>\n",
      "Int64Index: 1967 entries, 1 to 8235\n",
      "Data columns (total 14 columns):\n",
      " #   Column              Non-Null Count  Dtype         \n",
      "---  ------              --------------  -----         \n",
      " 0   tweet_id            1967 non-null   int64         \n",
      " 1   source              1967 non-null   object        \n",
      " 2   text                1967 non-null   object        \n",
      " 3   expanded_urls       1967 non-null   object        \n",
      " 4   rating_numerator    1967 non-null   float64       \n",
      " 5   rating_denominator  1967 non-null   int64         \n",
      " 6   name                1339 non-null   object        \n",
      " 7   favorites           1967 non-null   int64         \n",
      " 8   retweets            1967 non-null   int64         \n",
      " 9   date_time           1967 non-null   datetime64[ns]\n",
      " 10  jpg_url             1967 non-null   object        \n",
      " 11  img_num             1967 non-null   int64         \n",
      " 12  dog_description     305 non-null    object        \n",
      " 13  dog_breed           1662 non-null   object        \n",
      "dtypes: datetime64[ns](1), float64(1), int64(5), object(7)\n",
      "memory usage: 230.5+ KB\n"
     ]
    }
   ],
   "source": [
    "twitter_archive_clean.info()"
   ]
  },
  {
   "cell_type": "markdown",
   "metadata": {},
   "source": [
    "Code:"
   ]
  },
  {
   "cell_type": "code",
   "execution_count": 102,
   "metadata": {},
   "outputs": [],
   "source": [
    "#using .astype to change the data types\n",
    "twitter_archive_clean['tweet_id'] = twitter_archive_clean['tweet_id'].astype(str)\n",
    "twitter_archive_clean['dog_description'] = twitter_archive_clean['dog_description'].astype('category')\n",
    "twitter_archive_clean['dog_breed'] = twitter_archive_clean['dog_breed'].astype('category')\n",
    "twitter_archive_clean['source'] = twitter_archive_clean['source'].astype('category')\n",
    "twitter_archive_clean['rating_denominator'] = twitter_archive_clean['rating_denominator'].astype(float)"
   ]
  },
  {
   "cell_type": "markdown",
   "metadata": {},
   "source": [
    "Test:"
   ]
  },
  {
   "cell_type": "code",
   "execution_count": 103,
   "metadata": {},
   "outputs": [
    {
     "name": "stdout",
     "output_type": "stream",
     "text": [
      "<class 'pandas.core.frame.DataFrame'>\n",
      "Int64Index: 1967 entries, 1 to 8235\n",
      "Data columns (total 14 columns):\n",
      " #   Column              Non-Null Count  Dtype         \n",
      "---  ------              --------------  -----         \n",
      " 0   tweet_id            1967 non-null   object        \n",
      " 1   source              1967 non-null   category      \n",
      " 2   text                1967 non-null   object        \n",
      " 3   expanded_urls       1967 non-null   object        \n",
      " 4   rating_numerator    1967 non-null   float64       \n",
      " 5   rating_denominator  1967 non-null   float64       \n",
      " 6   name                1339 non-null   object        \n",
      " 7   favorites           1967 non-null   int64         \n",
      " 8   retweets            1967 non-null   int64         \n",
      " 9   date_time           1967 non-null   datetime64[ns]\n",
      " 10  jpg_url             1967 non-null   object        \n",
      " 11  img_num             1967 non-null   int64         \n",
      " 12  dog_description     305 non-null    category      \n",
      " 13  dog_breed           1662 non-null   category      \n",
      "dtypes: category(3), datetime64[ns](1), float64(2), int64(3), object(5)\n",
      "memory usage: 196.3+ KB\n"
     ]
    }
   ],
   "source": [
    "twitter_archive_clean.info()"
   ]
  },
  {
   "cell_type": "markdown",
   "metadata": {},
   "source": [
    "**Store the master dataframe as a .csv file**"
   ]
  },
  {
   "cell_type": "code",
   "execution_count": 104,
   "metadata": {},
   "outputs": [],
   "source": [
    "#saving the twitter_archive_clean as as twitter_archive_master.csv\n",
    "twitter_archive_clean.to_csv('twitter_archive_master.csv', index = False)"
   ]
  },
  {
   "cell_type": "markdown",
   "metadata": {},
   "source": [
    "<h1>Visualizations</h1>"
   ]
  },
  {
   "cell_type": "code",
   "execution_count": 111,
   "metadata": {},
   "outputs": [],
   "source": [
    "#re-reading in master DataFrame\n",
    "twitter_archive_master = pd.read_csv('twitter_archive_master.csv')"
   ]
  },
  {
   "cell_type": "code",
   "execution_count": 112,
   "metadata": {},
   "outputs": [],
   "source": [
    "#getting the average rating per dog type\n",
    "means = twitter_archive_master.groupby('dog_description').mean()['rating_numerator']"
   ]
  },
  {
   "cell_type": "code",
   "execution_count": 113,
   "metadata": {},
   "outputs": [],
   "source": [
    "#setting the colors of the bars\n",
    "from itertools import cycle, islice\n",
    "my_colors = list(islice(cycle(['b', 'r', 'g', 'y']), None, len(means)))"
   ]
  },
  {
   "cell_type": "code",
   "execution_count": 114,
   "metadata": {},
   "outputs": [
    {
     "data": {
      "image/png": "[encoded data removed]",
      "text/plain": [
       "<Figure size 432x288 with 1 Axes>"
      ]
     },
     "metadata": {
      "needs_background": "light"
     },
     "output_type": "display_data"
    }
   ],
   "source": [
    "#plotting bar chart\n",
    "means.plot.bar(x = 'Dog Descriptor', color = my_colors);\n",
    "plt.xlabel('Dog Descriptor');\n",
    "plt.ylabel('Average Rating');\n",
    "plt.title('Average Rating per Dog Descriptor');"
   ]
  },
  {
   "cell_type": "markdown",
   "metadata": {},
   "source": [
    "Source: https://stackoverflow.com/questions/11927715/how-to-give-a-pandas-matplotlib-bar-graph-custom-colors"
   ]
  },
  {
   "cell_type": "code",
   "execution_count": 115,
   "metadata": {},
   "outputs": [
    {
     "data": {
      "image/png": "[encoded data removed]",
      "text/plain": [
       "<Figure size 432x288 with 1 Axes>"
      ]
     },
     "metadata": {},
     "output_type": "display_data"
    }
   ],
   "source": [
    "#creating pie chart for proportion of dog types\n",
    "twitter_archive_master['dog_description'].value_counts().plot(kind = 'pie');\n",
    "plt.ylabel('Proportion of Dog Descriptors');"
   ]
  },
  {
   "cell_type": "code",
   "execution_count": 116,
   "metadata": {},
   "outputs": [],
   "source": [
    "#getting the sum of retweets for each dog type\n",
    "doggo_retweets = twitter_archive_master.query('dog_description == \"doggo\"')['retweets'].sum()\n",
    "floofer_retweets = twitter_archive_master.query('dog_description == \"floofer\"')['retweets'].sum()\n",
    "pupper_retweets = twitter_archive_master.query('dog_description == \"pupper\"')['retweets'].sum()\n",
    "puppo_retweets = twitter_archive_master.query('dog_description == \"puppo\"')['retweets'].sum()\n",
    "\n",
    "num_retweets = doggo_retweets, floofer_retweets, pupper_retweets, puppo_retweets"
   ]
  },
  {
   "cell_type": "code",
   "execution_count": 117,
   "metadata": {},
   "outputs": [],
   "source": [
    "#adding each to get the total retweets for the dogs that had one of the dog descriptors\n",
    "total_retweets = doggo_retweets + floofer_retweets + pupper_retweets + puppo_retweets"
   ]
  },
  {
   "cell_type": "code",
   "execution_count": 118,
   "metadata": {},
   "outputs": [],
   "source": [
    "#creating list of proportions\n",
    "proportions_retweets = [(doggo_retweets/total_retweets), (floofer_retweets/total_retweets), (pupper_retweets/total_retweets), (puppo_retweets/total_retweets)] "
   ]
  },
  {
   "cell_type": "code",
   "execution_count": 119,
   "metadata": {},
   "outputs": [],
   "source": [
    "#setting label names\n",
    "labels = 'doggo', 'floofer', 'pupper', 'puppo'"
   ]
  },
  {
   "cell_type": "code",
   "execution_count": 120,
   "metadata": {},
   "outputs": [
    {
     "data": {
      "image/png": "[encoded data removed]",
      "text/plain": [
       "<Figure size 432x288 with 1 Axes>"
      ]
     },
     "metadata": {},
     "output_type": "display_data"
    }
   ],
   "source": [
    "#plotting pie chart of proportions of retweets per dog type and 'exploding' the most popular dog type 'puppo'\n",
    "labels = labels\n",
    "sizes_retweets = proportions_retweets\n",
    "explode = (0, 0, 0.1, 0)  \n",
    "fig1, ax1 = plt.subplots()\n",
    "ax1.pie(np.array(sizes_retweets).ravel(), explode=explode, labels=labels, autopct='%1.1f%%',\n",
    "        shadow=True, startangle=90)\n",
    "ax1.axis('equal')  \n",
    "\n",
    "plt.title('Proportion of Retweets per Dog Descriptor')\n",
    "\n",
    "plt.show()"
   ]
  },
  {
   "cell_type": "markdown",
   "metadata": {},
   "source": [
    "Source: https://matplotlib.org/3.1.1/gallery/pie_and_polar_charts/pie_features.html"
   ]
  },
  {
   "cell_type": "code",
   "execution_count": 121,
   "metadata": {},
   "outputs": [],
   "source": [
    "#getting the sum of retweets for each dog type\n",
    "doggo_favorites = twitter_archive_master.query('dog_description == \"doggo\"')['favorites'].sum()\n",
    "floofer_favorites= twitter_archive_master.query('dog_description == \"floofer\"')['favorites'].sum()\n",
    "pupper_favorites = twitter_archive_master.query('dog_description == \"pupper\"')['favorites'].sum()\n",
    "puppo_favorites = twitter_archive_master.query('dog_description == \"puppo\"')['favorites'].sum()\n",
    "\n",
    "num_favorites = doggo_favorites, floofer_favorites, pupper_favorites, puppo_favorites"
   ]
  },
  {
   "cell_type": "code",
   "execution_count": 122,
   "metadata": {},
   "outputs": [],
   "source": [
    "#adding each to get the total retweets for the dogs that had one of the dog descriptors\n",
    "total_favorites = doggo_favorites + floofer_favorites + pupper_favorites + puppo_favorites"
   ]
  },
  {
   "cell_type": "code",
   "execution_count": 123,
   "metadata": {},
   "outputs": [],
   "source": [
    "#creating list of proportions\n",
    "proportions_favs = [(doggo_favorites/total_favorites), (floofer_favorites/total_favorites), (pupper_favorites/total_favorites), (puppo_favorites/total_favorites)]\n"
   ]
  },
  {
   "cell_type": "code",
   "execution_count": 124,
   "metadata": {},
   "outputs": [],
   "source": [
    "#setting label names\n",
    "labels = 'doggo', 'floofer', 'pupper', 'puppo'"
   ]
  },
  {
   "cell_type": "code",
   "execution_count": 125,
   "metadata": {},
   "outputs": [
    {
     "data": {
      "image/png": "[encoded data removed]",
      "text/plain": [
       "<Figure size 432x288 with 1 Axes>"
      ]
     },
     "metadata": {},
     "output_type": "display_data"
    }
   ],
   "source": [
    "#plotting pie chart of proportions of favorites per dog type and 'exploding' the most popular dog type 'puppo'\n",
    "labels = labels\n",
    "sizes_favs = proportions_favs\n",
    "explode = (0, 0, 0.1, 0)\n",
    "\n",
    "fig1, ax1 = plt.subplots()\n",
    "ax1.pie(np.array(sizes_favs).ravel(), explode=explode, labels=labels, autopct='%1.1f%%',\n",
    "        shadow=True, startangle=90)\n",
    "ax1.axis('equal')  # Equal aspect ratio ensures that pie is drawn as a circle.\n",
    "\n",
    "plt.title('Proportion of Favorites per Dog Descriptor')\n",
    "\n",
    "plt.show()"
   ]
  },
  {
   "cell_type": "code",
   "execution_count": 126,
   "metadata": {},
   "outputs": [],
   "source": [
    "#creating dataframe for correlation analysis\n",
    "total_desc = twitter_archive_master['dog_description'].value_counts().sum()\n",
    "\n",
    "proportion_doggo = twitter_archive_master.query('dog_description == \"doggo\"')['dog_description'].count()/total_desc\n",
    "proportion_puppo = twitter_archive_master.query('dog_description == \"puppo\"')['dog_description'].count()/total_desc\n",
    "proportion_pupper = twitter_archive_master.query('dog_description == \"pupper\"')['dog_description'].count()/total_desc\n",
    "proportion_floofer = twitter_archive_master.query('dog_description == \"floofer\"')['dog_description'].count()/total_desc\n",
    "\n",
    "desc_proportions = proportion_doggo, proportion_floofer, proportion_pupper, proportion_puppo"
   ]
  },
  {
   "cell_type": "code",
   "execution_count": 127,
   "metadata": {},
   "outputs": [],
   "source": [
    "retweet_favs_dict = {'count_of_dog_descriptors': [62, 8, 212, 23], 'number_of_retweets': num_retweets, 'number_of_favorites': num_favorites}\n"
   ]
  },
  {
   "cell_type": "code",
   "execution_count": 128,
   "metadata": {},
   "outputs": [],
   "source": [
    "corr_df = pd.DataFrame(data = retweet_favs_dict)"
   ]
  },
  {
   "cell_type": "code",
   "execution_count": 129,
   "metadata": {},
   "outputs": [
    {
     "data": {
      "text/plain": [
       "0.8129301875342814"
      ]
     },
     "execution_count": 129,
     "metadata": {},
     "output_type": "execute_result"
    }
   ],
   "source": [
    "#calculating correlation coefficient between count of dog descriptors and number of retweets\n",
    "corr_df['count_of_dog_descriptors'].corr(corr_df['number_of_retweets'])"
   ]
  },
  {
   "cell_type": "code",
   "execution_count": 130,
   "metadata": {},
   "outputs": [
    {
     "data": {
      "text/plain": [
       "0.8544947755523944"
      ]
     },
     "execution_count": 130,
     "metadata": {},
     "output_type": "execute_result"
    }
   ],
   "source": [
    "#calculating correlation coefficient between count of dog descriptors and number of favorites\n",
    "corr_df['count_of_dog_descriptors'].corr(corr_df['number_of_favorites'])"
   ]
  },
  {
   "cell_type": "code",
   "execution_count": 131,
   "metadata": {},
   "outputs": [
    {
     "data": {
      "image/png": "[encoded data removed]",
      "text/plain": [
       "<Figure size 720x360 with 1 Axes>"
      ]
     },
     "metadata": {
      "needs_background": "light"
     },
     "output_type": "display_data"
    }
   ],
   "source": [
    "plt.figure(figsize = (10,5))\n",
    "ax2 = sns.regplot(x = 'number_of_favorites', y = 'number_of_retweets', data = corr_df, color = 'b')\n",
    "ax2.set(title = 'Number of Retweets vs. Number of Favorites')\n",
    "ax2.set(ylabel = 'Number of Favorites')\n",
    "ax2.set(xlabel = 'Number of Retweets');"
   ]
  },
  {
   "cell_type": "code",
   "execution_count": 132,
   "metadata": {},
   "outputs": [],
   "source": [
    "top10_breed = twitter_archive_master['dog_breed'].value_counts()[:10]"
   ]
  },
  {
   "cell_type": "code",
   "execution_count": 133,
   "metadata": {},
   "outputs": [
    {
     "data": {
      "image/png": "[encoded data removed]",
      "text/plain": [
       "<Figure size 432x288 with 1 Axes>"
      ]
     },
     "metadata": {
      "needs_background": "light"
     },
     "output_type": "display_data"
    }
   ],
   "source": [
    "top10_breed.plot.bar(x = 'Dog Breed', color = my_colors);\n",
    "plt.xlabel('Dog Breed');\n",
    "plt.ylabel('Number of Appearances on WeRateDogs');\n",
    "plt.title('Top Ten Dog Breeds on WeRateDogs');"
   ]
  },
  {
   "cell_type": "code",
   "execution_count": 159,
   "metadata": {},
   "outputs": [
    {
     "data": {
      "image/png": "[encoded data removed]",
      "text/plain": [
       "<Figure size 432x288 with 1 Axes>"
      ]
     },
     "metadata": {
      "needs_background": "light"
     },
     "output_type": "display_data"
    }
   ],
   "source": [
    "twitter_archive_master.groupby('dog_breed')['retweets'].sum().sort_values(ascending = False)[:10].plot.bar(x = 'Dog Breed');\n",
    "plt.xlabel('Dog Breed');\n",
    "plt.ylabel('Number of Retweets');\n",
    "plt.title('Top Ten Retweeted Dog Breeds');"
   ]
  },
  {
   "cell_type": "code",
   "execution_count": 160,
   "metadata": {},
   "outputs": [
    {
     "data": {
      "image/png": "[encoded data removed]",
      "text/plain": [
       "<Figure size 432x288 with 1 Axes>"
      ]
     },
     "metadata": {
      "needs_background": "light"
     },
     "output_type": "display_data"
    }
   ],
   "source": [
    "twitter_archive_master.groupby('dog_breed')['favorites'].sum().sort_values(ascending = False)[:10].plot.bar(x = 'Dog Breed')\n",
    "plt.xlabel('Dog Breed');\n",
    "plt.ylabel('Number of Favorites');\n",
    "plt.title('Top Ten Favorited Dog Breeds');"
   ]
  },
  {
   "cell_type": "code",
   "execution_count": 144,
   "metadata": {},
   "outputs": [],
   "source": [
    "top10_favorites = twitter_archive_master.groupby('dog_breed')['favorites'].sum().sort_values(ascending = False)[:10]\n",
    "top10_retweets = twitter_archive_master.groupby('dog_breed')['retweets'].sum().sort_values(ascending = False)[:10]\n",
    "top10_breed = twitter_archive_master['dog_breed'].value_counts()[:10]"
   ]
  },
  {
   "cell_type": "code",
   "execution_count": 145,
   "metadata": {},
   "outputs": [],
   "source": [
    "top10_retweets_dict = {'Top 10 Retweets': top10_retweets}"
   ]
  },
  {
   "cell_type": "code",
   "execution_count": 146,
   "metadata": {},
   "outputs": [],
   "source": [
    "top10_retweets = pd.DataFrame(data = top10_retweets_dict)"
   ]
  },
  {
   "cell_type": "code",
   "execution_count": 147,
   "metadata": {},
   "outputs": [],
   "source": [
    "top10_favorites_dict = {'Top 10 Favorites': top10_favorites}"
   ]
  },
  {
   "cell_type": "code",
   "execution_count": 148,
   "metadata": {},
   "outputs": [],
   "source": [
    "top10_favorites = pd.DataFrame(data = top10_favorites_dict)"
   ]
  },
  {
   "cell_type": "code",
   "execution_count": 157,
   "metadata": {},
   "outputs": [
    {
     "data": {
      "text/html": [
       "<div>\n",
       "<style scoped>\n",
       "    .dataframe tbody tr th:only-of-type {\n",
       "        vertical-align: middle;\n",
       "    }\n",
       "\n",
       "    .dataframe tbody tr th {\n",
       "        vertical-align: top;\n",
       "    }\n",
       "\n",
       "    .dataframe thead th {\n",
       "        text-align: right;\n",
       "    }\n",
       "</style>\n",
       "<table border=\"1\" class=\"dataframe\">\n",
       "  <thead>\n",
       "    <tr style=\"text-align: right;\">\n",
       "      <th></th>\n",
       "      <th>Top 10 Favorites</th>\n",
       "    </tr>\n",
       "    <tr>\n",
       "      <th>dog_breed</th>\n",
       "      <th></th>\n",
       "    </tr>\n",
       "  </thead>\n",
       "  <tbody>\n",
       "    <tr>\n",
       "      <th>golden_retriever</th>\n",
       "      <td>1731527</td>\n",
       "    </tr>\n",
       "    <tr>\n",
       "      <th>labrador_retriever</th>\n",
       "      <td>1100112</td>\n",
       "    </tr>\n",
       "    <tr>\n",
       "      <th>pembroke</th>\n",
       "      <td>953437</td>\n",
       "    </tr>\n",
       "    <tr>\n",
       "      <th>chihuahua</th>\n",
       "      <td>671264</td>\n",
       "    </tr>\n",
       "    <tr>\n",
       "      <th>french_bulldog</th>\n",
       "      <td>553316</td>\n",
       "    </tr>\n",
       "    <tr>\n",
       "      <th>samoyed</th>\n",
       "      <td>507419</td>\n",
       "    </tr>\n",
       "    <tr>\n",
       "      <th>chow</th>\n",
       "      <td>407830</td>\n",
       "    </tr>\n",
       "    <tr>\n",
       "      <th>cocker_spaniel</th>\n",
       "      <td>371970</td>\n",
       "    </tr>\n",
       "    <tr>\n",
       "      <th>pug</th>\n",
       "      <td>343529</td>\n",
       "    </tr>\n",
       "    <tr>\n",
       "      <th>malamute</th>\n",
       "      <td>321288</td>\n",
       "    </tr>\n",
       "  </tbody>\n",
       "</table>\n",
       "</div>"
      ],
      "text/plain": [
       "                    Top 10 Favorites\n",
       "dog_breed                           \n",
       "golden_retriever             1731527\n",
       "labrador_retriever           1100112\n",
       "pembroke                      953437\n",
       "chihuahua                     671264\n",
       "french_bulldog                553316\n",
       "samoyed                       507419\n",
       "chow                          407830\n",
       "cocker_spaniel                371970\n",
       "pug                           343529\n",
       "malamute                      321288"
      ]
     },
     "execution_count": 157,
     "metadata": {},
     "output_type": "execute_result"
    }
   ],
   "source": [
    "top10_favorites"
   ]
  },
  {
   "cell_type": "code",
   "execution_count": 158,
   "metadata": {},
   "outputs": [
    {
     "data": {
      "text/html": [
       "<div>\n",
       "<style scoped>\n",
       "    .dataframe tbody tr th:only-of-type {\n",
       "        vertical-align: middle;\n",
       "    }\n",
       "\n",
       "    .dataframe tbody tr th {\n",
       "        vertical-align: top;\n",
       "    }\n",
       "\n",
       "    .dataframe thead th {\n",
       "        text-align: right;\n",
       "    }\n",
       "</style>\n",
       "<table border=\"1\" class=\"dataframe\">\n",
       "  <thead>\n",
       "    <tr style=\"text-align: right;\">\n",
       "      <th></th>\n",
       "      <th>Top 10 Retweets</th>\n",
       "    </tr>\n",
       "    <tr>\n",
       "      <th>dog_breed</th>\n",
       "      <th></th>\n",
       "    </tr>\n",
       "  </thead>\n",
       "  <tbody>\n",
       "    <tr>\n",
       "      <th>golden_retriever</th>\n",
       "      <td>494800</td>\n",
       "    </tr>\n",
       "    <tr>\n",
       "      <th>labrador_retriever</th>\n",
       "      <td>336417</td>\n",
       "    </tr>\n",
       "    <tr>\n",
       "      <th>pembroke</th>\n",
       "      <td>253028</td>\n",
       "    </tr>\n",
       "    <tr>\n",
       "      <th>chihuahua</th>\n",
       "      <td>209831</td>\n",
       "    </tr>\n",
       "    <tr>\n",
       "      <th>samoyed</th>\n",
       "      <td>166472</td>\n",
       "    </tr>\n",
       "    <tr>\n",
       "      <th>french_bulldog</th>\n",
       "      <td>141175</td>\n",
       "    </tr>\n",
       "    <tr>\n",
       "      <th>cocker_spaniel</th>\n",
       "      <td>127114</td>\n",
       "    </tr>\n",
       "    <tr>\n",
       "      <th>chow</th>\n",
       "      <td>113796</td>\n",
       "    </tr>\n",
       "    <tr>\n",
       "      <th>pug</th>\n",
       "      <td>101167</td>\n",
       "    </tr>\n",
       "    <tr>\n",
       "      <th>pomeranian</th>\n",
       "      <td>98163</td>\n",
       "    </tr>\n",
       "  </tbody>\n",
       "</table>\n",
       "</div>"
      ],
      "text/plain": [
       "                    Top 10 Retweets\n",
       "dog_breed                          \n",
       "golden_retriever             494800\n",
       "labrador_retriever           336417\n",
       "pembroke                     253028\n",
       "chihuahua                    209831\n",
       "samoyed                      166472\n",
       "french_bulldog               141175\n",
       "cocker_spaniel               127114\n",
       "chow                         113796\n",
       "pug                          101167\n",
       "pomeranian                    98163"
      ]
     },
     "execution_count": 158,
     "metadata": {},
     "output_type": "execute_result"
    }
   ],
   "source": [
    "top10_retweets"
   ]
  },
  {
   "cell_type": "code",
   "execution_count": 149,
   "metadata": {},
   "outputs": [],
   "source": [
    "#dropping NaN's from master DataFrame \n",
    "twitter_archive_master_cloud = twitter_archive_master.dropna()"
   ]
  },
  {
   "cell_type": "code",
   "execution_count": 150,
   "metadata": {},
   "outputs": [],
   "source": [
    "#generating wordcloud (source for code help below)\n",
    "wordcloud = WordCloud(width = 800, height = 800, \n",
    "                background_color ='white', \n",
    "                min_font_size = 10).generate(' '.join(twitter_archive_master_cloud['name']))"
   ]
  },
  {
   "cell_type": "code",
   "execution_count": 346,
   "metadata": {},
   "outputs": [
    {
     "data": {
      "image/png": "[encoded data removed]",
      "text/plain": [
       "<Figure size 720x720 with 1 Axes>"
      ]
     },
     "metadata": {
      "needs_background": "light"
     },
     "output_type": "display_data"
    }
   ],
   "source": [
    "#displaying wordcloud                    \n",
    "plt.figure(figsize = (10, 10), facecolor = None) \n",
    "plt.imshow(wordcloud) \n",
    "plt.axis(\"off\") \n",
    "plt.tight_layout(pad = 0) \n",
    "  \n",
    "plt.show()"
   ]
  },
  {
   "cell_type": "markdown",
   "metadata": {},
   "source": [
    "Source: https://towardsdatascience.com/create-your-own-word-cloud-705798556574"
   ]
  },
  {
   "cell_type": "code",
   "execution_count": 170,
   "metadata": {},
   "outputs": [
    {
     "name": "stdout",
     "output_type": "stream",
     "text": [
      "75969\n",
      "153323\n"
     ]
    }
   ],
   "source": [
    "print(twitter_archive_master['retweets'].max())\n",
    "print(twitter_archive_master['favorites'].max())"
   ]
  },
  {
   "cell_type": "code",
   "execution_count": 172,
   "metadata": {},
   "outputs": [
    {
     "data": {
      "text/plain": [
       "14.0"
      ]
     },
     "execution_count": 172,
     "metadata": {},
     "output_type": "execute_result"
    }
   ],
   "source": [
    "twitter_archive_master['rating_numerator'].max()"
   ]
  },
  {
   "cell_type": "code",
   "execution_count": 171,
   "metadata": {},
   "outputs": [
    {
     "data": {
      "text/html": [
       "<div>\n",
       "<style scoped>\n",
       "    .dataframe tbody tr th:only-of-type {\n",
       "        vertical-align: middle;\n",
       "    }\n",
       "\n",
       "    .dataframe tbody tr th {\n",
       "        vertical-align: top;\n",
       "    }\n",
       "\n",
       "    .dataframe thead th {\n",
       "        text-align: right;\n",
       "    }\n",
       "</style>\n",
       "<table border=\"1\" class=\"dataframe\">\n",
       "  <thead>\n",
       "    <tr style=\"text-align: right;\">\n",
       "      <th></th>\n",
       "      <th>tweet_id</th>\n",
       "      <th>source</th>\n",
       "      <th>text</th>\n",
       "      <th>expanded_urls</th>\n",
       "      <th>rating_numerator</th>\n",
       "      <th>rating_denominator</th>\n",
       "      <th>name</th>\n",
       "      <th>favorites</th>\n",
       "      <th>retweets</th>\n",
       "      <th>date_time</th>\n",
       "      <th>jpg_url</th>\n",
       "      <th>img_num</th>\n",
       "      <th>dog_description</th>\n",
       "      <th>dog_breed</th>\n",
       "    </tr>\n",
       "  </thead>\n",
       "  <tbody>\n",
       "    <tr>\n",
       "      <th>122</th>\n",
       "      <td>744234799360020481</td>\n",
       "      <td>Twitter for iPhone</td>\n",
       "      <td>Here's a doggo realizing you can stand in a po...</td>\n",
       "      <td>https://twitter.com/dog_rates/status/744234799...</td>\n",
       "      <td>13.0</td>\n",
       "      <td>10.0</td>\n",
       "      <td>NaN</td>\n",
       "      <td>153323</td>\n",
       "      <td>75969</td>\n",
       "      <td>2016-06-18 18:26:18</td>\n",
       "      <td>https://pbs.twimg.com/ext_tw_video_thumb/74423...</td>\n",
       "      <td>1</td>\n",
       "      <td>doggo</td>\n",
       "      <td>labrador_retriever</td>\n",
       "    </tr>\n",
       "  </tbody>\n",
       "</table>\n",
       "</div>"
      ],
      "text/plain": [
       "               tweet_id              source  \\\n",
       "122  744234799360020481  Twitter for iPhone   \n",
       "\n",
       "                                                  text  \\\n",
       "122  Here's a doggo realizing you can stand in a po...   \n",
       "\n",
       "                                         expanded_urls  rating_numerator  \\\n",
       "122  https://twitter.com/dog_rates/status/744234799...              13.0   \n",
       "\n",
       "     rating_denominator name  favorites  retweets            date_time  \\\n",
       "122                10.0  NaN     153323     75969  2016-06-18 18:26:18   \n",
       "\n",
       "                                               jpg_url  img_num  \\\n",
       "122  https://pbs.twimg.com/ext_tw_video_thumb/74423...        1   \n",
       "\n",
       "    dog_description           dog_breed  \n",
       "122           doggo  labrador_retriever  "
      ]
     },
     "execution_count": 171,
     "metadata": {},
     "output_type": "execute_result"
    }
   ],
   "source": [
    "twitter_archive_master[(twitter_archive_master['retweets'] == 75969) & (twitter_archive_master['favorites'] == 153323)]"
   ]
  },
  {
   "cell_type": "code",
   "execution_count": 173,
   "metadata": {},
   "outputs": [
    {
     "data": {
      "text/html": [
       "<div>\n",
       "<style scoped>\n",
       "    .dataframe tbody tr th:only-of-type {\n",
       "        vertical-align: middle;\n",
       "    }\n",
       "\n",
       "    .dataframe tbody tr th {\n",
       "        vertical-align: top;\n",
       "    }\n",
       "\n",
       "    .dataframe thead th {\n",
       "        text-align: right;\n",
       "    }\n",
       "</style>\n",
       "<table border=\"1\" class=\"dataframe\">\n",
       "  <thead>\n",
       "    <tr style=\"text-align: right;\">\n",
       "      <th></th>\n",
       "      <th>tweet_id</th>\n",
       "      <th>source</th>\n",
       "      <th>text</th>\n",
       "      <th>expanded_urls</th>\n",
       "      <th>rating_numerator</th>\n",
       "      <th>rating_denominator</th>\n",
       "      <th>name</th>\n",
       "      <th>favorites</th>\n",
       "      <th>retweets</th>\n",
       "      <th>date_time</th>\n",
       "      <th>jpg_url</th>\n",
       "      <th>img_num</th>\n",
       "      <th>dog_description</th>\n",
       "      <th>dog_breed</th>\n",
       "    </tr>\n",
       "  </thead>\n",
       "  <tbody>\n",
       "    <tr>\n",
       "      <th>8</th>\n",
       "      <td>890240255349198849</td>\n",
       "      <td>Twitter for iPhone</td>\n",
       "      <td>This is Cassie. She is a college pup. Studying...</td>\n",
       "      <td>https://twitter.com/dog_rates/status/890240255...</td>\n",
       "      <td>14.0</td>\n",
       "      <td>10.0</td>\n",
       "      <td>Cassie</td>\n",
       "      <td>29380</td>\n",
       "      <td>6536</td>\n",
       "      <td>2017-07-26 15:59:51</td>\n",
       "      <td>https://pbs.twimg.com/media/DFrEyVuW0AAO3t9.jpg</td>\n",
       "      <td>1</td>\n",
       "      <td>doggo</td>\n",
       "      <td>pembroke</td>\n",
       "    </tr>\n",
       "    <tr>\n",
       "      <th>18</th>\n",
       "      <td>887517139158093824</td>\n",
       "      <td>Twitter for iPhone</td>\n",
       "      <td>I've yet to rate a Venezuelan Hover Wiener. Th...</td>\n",
       "      <td>https://twitter.com/dog_rates/status/887517139...</td>\n",
       "      <td>14.0</td>\n",
       "      <td>10.0</td>\n",
       "      <td>NaN</td>\n",
       "      <td>42769</td>\n",
       "      <td>10517</td>\n",
       "      <td>2017-07-19 03:39:09</td>\n",
       "      <td>https://pbs.twimg.com/ext_tw_video_thumb/88751...</td>\n",
       "      <td>1</td>\n",
       "      <td>NaN</td>\n",
       "      <td>NaN</td>\n",
       "    </tr>\n",
       "    <tr>\n",
       "      <th>31</th>\n",
       "      <td>884441805382717440</td>\n",
       "      <td>Twitter for iPhone</td>\n",
       "      <td>I present to you, Pup in Hat. Pup in Hat is gr...</td>\n",
       "      <td>https://twitter.com/dog_rates/status/884441805...</td>\n",
       "      <td>14.0</td>\n",
       "      <td>10.0</td>\n",
       "      <td>NaN</td>\n",
       "      <td>24986</td>\n",
       "      <td>5080</td>\n",
       "      <td>2017-07-10 15:58:53</td>\n",
       "      <td>https://pbs.twimg.com/media/DEYrIZwWsAA2Wo5.jpg</td>\n",
       "      <td>1</td>\n",
       "      <td>NaN</td>\n",
       "      <td>pembroke</td>\n",
       "    </tr>\n",
       "    <tr>\n",
       "      <th>55</th>\n",
       "      <td>878057613040115712</td>\n",
       "      <td>Twitter for iPhone</td>\n",
       "      <td>This is Emmy. She was adopted today. Massive r...</td>\n",
       "      <td>https://twitter.com/dog_rates/status/878057613...</td>\n",
       "      <td>14.0</td>\n",
       "      <td>10.0</td>\n",
       "      <td>Emmy</td>\n",
       "      <td>38901</td>\n",
       "      <td>6080</td>\n",
       "      <td>2017-06-23 01:10:23</td>\n",
       "      <td>https://pbs.twimg.com/media/DC98vABUIAA97pz.jpg</td>\n",
       "      <td>1</td>\n",
       "      <td>NaN</td>\n",
       "      <td>french_bulldog</td>\n",
       "    </tr>\n",
       "    <tr>\n",
       "      <th>79</th>\n",
       "      <td>832273440279240704</td>\n",
       "      <td>Twitter for iPhone</td>\n",
       "      <td>Say hello to Smiley. He's a blind therapy dogg...</td>\n",
       "      <td>https://twitter.com/dog_rates/status/832273440...</td>\n",
       "      <td>14.0</td>\n",
       "      <td>10.0</td>\n",
       "      <td>Smiley</td>\n",
       "      <td>11213</td>\n",
       "      <td>2294</td>\n",
       "      <td>2017-02-16 17:00:25</td>\n",
       "      <td>https://pbs.twimg.com/ext_tw_video_thumb/83227...</td>\n",
       "      <td>1</td>\n",
       "      <td>doggo</td>\n",
       "      <td>pembroke</td>\n",
       "    </tr>\n",
       "    <tr>\n",
       "      <th>84</th>\n",
       "      <td>828381636999917570</td>\n",
       "      <td>Twitter for iPhone</td>\n",
       "      <td>Meet Doobert. He's a deaf doggo. Didn't stop h...</td>\n",
       "      <td>https://twitter.com/dog_rates/status/828381636...</td>\n",
       "      <td>14.0</td>\n",
       "      <td>10.0</td>\n",
       "      <td>Doobert</td>\n",
       "      <td>12478</td>\n",
       "      <td>2188</td>\n",
       "      <td>2017-02-05 23:15:47</td>\n",
       "      <td>https://pbs.twimg.com/media/C38Asz1WEAAvzj3.jpg</td>\n",
       "      <td>1</td>\n",
       "      <td>doggo</td>\n",
       "      <td>bedlington_terrier</td>\n",
       "    </tr>\n",
       "    <tr>\n",
       "      <th>90</th>\n",
       "      <td>821407182352777218</td>\n",
       "      <td>Twitter for iPhone</td>\n",
       "      <td>This is Sundance. He's a doggo drummer. Even s...</td>\n",
       "      <td>https://twitter.com/dog_rates/status/821407182...</td>\n",
       "      <td>14.0</td>\n",
       "      <td>10.0</td>\n",
       "      <td>Sundance</td>\n",
       "      <td>11704</td>\n",
       "      <td>4303</td>\n",
       "      <td>2017-01-17 17:21:47</td>\n",
       "      <td>https://pbs.twimg.com/ext_tw_video_thumb/82140...</td>\n",
       "      <td>1</td>\n",
       "      <td>doggo</td>\n",
       "      <td>irish_setter</td>\n",
       "    </tr>\n",
       "    <tr>\n",
       "      <th>93</th>\n",
       "      <td>819006400881917954</td>\n",
       "      <td>Twitter for iPhone</td>\n",
       "      <td>This is Sunny. She was also a very good First ...</td>\n",
       "      <td>https://twitter.com/dog_rates/status/819006400...</td>\n",
       "      <td>14.0</td>\n",
       "      <td>10.0</td>\n",
       "      <td>Sunny</td>\n",
       "      <td>45138</td>\n",
       "      <td>18884</td>\n",
       "      <td>2017-01-11 02:21:57</td>\n",
       "      <td>https://pbs.twimg.com/media/C12x-JTVIAAzdfl.jpg</td>\n",
       "      <td>4</td>\n",
       "      <td>doggo</td>\n",
       "      <td>NaN</td>\n",
       "    </tr>\n",
       "    <tr>\n",
       "      <th>94</th>\n",
       "      <td>819004803107983360</td>\n",
       "      <td>Twitter for iPhone</td>\n",
       "      <td>This is Bo. He was a very good First Doggo. 14...</td>\n",
       "      <td>https://twitter.com/dog_rates/status/819004803...</td>\n",
       "      <td>14.0</td>\n",
       "      <td>10.0</td>\n",
       "      <td>Bo</td>\n",
       "      <td>86681</td>\n",
       "      <td>36678</td>\n",
       "      <td>2017-01-11 02:15:36</td>\n",
       "      <td>https://pbs.twimg.com/media/C12whDoVEAALRxa.jpg</td>\n",
       "      <td>1</td>\n",
       "      <td>doggo</td>\n",
       "      <td>standard_poodle</td>\n",
       "    </tr>\n",
       "    <tr>\n",
       "      <th>114</th>\n",
       "      <td>755206590534418437</td>\n",
       "      <td>Twitter for iPhone</td>\n",
       "      <td>This is one of the most inspirational stories ...</td>\n",
       "      <td>https://twitter.com/dog_rates/status/755206590...</td>\n",
       "      <td>14.0</td>\n",
       "      <td>10.0</td>\n",
       "      <td>NaN</td>\n",
       "      <td>16215</td>\n",
       "      <td>5276</td>\n",
       "      <td>2016-07-19 01:04:16</td>\n",
       "      <td>https://pbs.twimg.com/media/CnsIT0WWcAAul8V.jpg</td>\n",
       "      <td>1</td>\n",
       "      <td>doggo</td>\n",
       "      <td>NaN</td>\n",
       "    </tr>\n",
       "    <tr>\n",
       "      <th>261</th>\n",
       "      <td>870063196459192321</td>\n",
       "      <td>Twitter for iPhone</td>\n",
       "      <td>Meet Clifford. He's quite large. Also red. Goo...</td>\n",
       "      <td>https://twitter.com/dog_rates/status/870063196...</td>\n",
       "      <td>14.0</td>\n",
       "      <td>10.0</td>\n",
       "      <td>Clifford</td>\n",
       "      <td>34047</td>\n",
       "      <td>7540</td>\n",
       "      <td>2017-05-31 23:43:25</td>\n",
       "      <td>https://pbs.twimg.com/media/DBMV3NnXUAAm0Pp.jpg</td>\n",
       "      <td>1</td>\n",
       "      <td>NaN</td>\n",
       "      <td>NaN</td>\n",
       "    </tr>\n",
       "    <tr>\n",
       "      <th>265</th>\n",
       "      <td>868880397819494401</td>\n",
       "      <td>Twitter for iPhone</td>\n",
       "      <td>This is Walter. He won't start hydrotherapy wi...</td>\n",
       "      <td>https://twitter.com/dog_rates/status/868880397...</td>\n",
       "      <td>14.0</td>\n",
       "      <td>10.0</td>\n",
       "      <td>Walter</td>\n",
       "      <td>61009</td>\n",
       "      <td>13119</td>\n",
       "      <td>2017-05-28 17:23:24</td>\n",
       "      <td>https://pbs.twimg.com/media/DA7iHL5U0AA1OQo.jpg</td>\n",
       "      <td>1</td>\n",
       "      <td>NaN</td>\n",
       "      <td>french_bulldog</td>\n",
       "    </tr>\n",
       "    <tr>\n",
       "      <th>276</th>\n",
       "      <td>864873206498414592</td>\n",
       "      <td>Twitter for iPhone</td>\n",
       "      <td>We only rate dogs. Please don't send in Jesus....</td>\n",
       "      <td>https://twitter.com/dog_rates/status/864873206...</td>\n",
       "      <td>14.0</td>\n",
       "      <td>10.0</td>\n",
       "      <td>NaN</td>\n",
       "      <td>30259</td>\n",
       "      <td>7968</td>\n",
       "      <td>2017-05-17 16:00:15</td>\n",
       "      <td>https://pbs.twimg.com/media/DAClmHkXcAA1kSv.jpg</td>\n",
       "      <td>2</td>\n",
       "      <td>NaN</td>\n",
       "      <td>NaN</td>\n",
       "    </tr>\n",
       "    <tr>\n",
       "      <th>282</th>\n",
       "      <td>863079547188785154</td>\n",
       "      <td>Twitter for iPhone</td>\n",
       "      <td>Ladies and gentlemen... I found Pipsy. He may ...</td>\n",
       "      <td>https://twitter.com/dog_rates/status/863079547...</td>\n",
       "      <td>14.0</td>\n",
       "      <td>10.0</td>\n",
       "      <td>NaN</td>\n",
       "      <td>8254</td>\n",
       "      <td>1023</td>\n",
       "      <td>2017-05-12 17:12:53</td>\n",
       "      <td>https://pbs.twimg.com/media/C_pGRInUwAAmTY_.jpg</td>\n",
       "      <td>1</td>\n",
       "      <td>NaN</td>\n",
       "      <td>lakeland_terrier</td>\n",
       "    </tr>\n",
       "    <tr>\n",
       "      <th>294</th>\n",
       "      <td>860184849394610176</td>\n",
       "      <td>Twitter for iPhone</td>\n",
       "      <td>Here we have perhaps the wisest dog of all. Ab...</td>\n",
       "      <td>https://twitter.com/dog_rates/status/860184849...</td>\n",
       "      <td>14.0</td>\n",
       "      <td>10.0</td>\n",
       "      <td>NaN</td>\n",
       "      <td>15748</td>\n",
       "      <td>5428</td>\n",
       "      <td>2017-05-04 17:30:24</td>\n",
       "      <td>https://pbs.twimg.com/media/C-_9jWWUwAAnwkd.jpg</td>\n",
       "      <td>1</td>\n",
       "      <td>NaN</td>\n",
       "      <td>NaN</td>\n",
       "    </tr>\n",
       "    <tr>\n",
       "      <th>307</th>\n",
       "      <td>856526610513747968</td>\n",
       "      <td>Twitter for iPhone</td>\n",
       "      <td>THIS IS CHARLIE, MARK. HE DID JUST WANT TO SAY...</td>\n",
       "      <td>https://twitter.com/dog_rates/status/856526610...</td>\n",
       "      <td>14.0</td>\n",
       "      <td>10.0</td>\n",
       "      <td>NaN</td>\n",
       "      <td>11317</td>\n",
       "      <td>1770</td>\n",
       "      <td>2017-04-24 15:13:52</td>\n",
       "      <td>https://pbs.twimg.com/media/C-L-aIYXgAIR0jY.jpg</td>\n",
       "      <td>1</td>\n",
       "      <td>NaN</td>\n",
       "      <td>old_english_sheepdog</td>\n",
       "    </tr>\n",
       "    <tr>\n",
       "      <th>308</th>\n",
       "      <td>856282028240666624</td>\n",
       "      <td>Twitter for iPhone</td>\n",
       "      <td>This is Cermet, Paesh, and Morple. They are ab...</td>\n",
       "      <td>https://twitter.com/dog_rates/status/856282028...</td>\n",
       "      <td>14.0</td>\n",
       "      <td>10.0</td>\n",
       "      <td>Cermet</td>\n",
       "      <td>26476</td>\n",
       "      <td>5907</td>\n",
       "      <td>2017-04-23 23:01:59</td>\n",
       "      <td>https://pbs.twimg.com/media/C-If9ZwXoAAfDX2.jpg</td>\n",
       "      <td>4</td>\n",
       "      <td>NaN</td>\n",
       "      <td>chihuahua</td>\n",
       "    </tr>\n",
       "    <tr>\n",
       "      <th>321</th>\n",
       "      <td>852226086759018497</td>\n",
       "      <td>Twitter Web Client</td>\n",
       "      <td>Meet General. He wasn't content with the quali...</td>\n",
       "      <td>https://twitter.com/dog_rates/status/852226086...</td>\n",
       "      <td>14.0</td>\n",
       "      <td>10.0</td>\n",
       "      <td>General</td>\n",
       "      <td>19309</td>\n",
       "      <td>6541</td>\n",
       "      <td>2017-04-12 18:25:07</td>\n",
       "      <td>https://pbs.twimg.com/ext_tw_video_thumb/85222...</td>\n",
       "      <td>1</td>\n",
       "      <td>NaN</td>\n",
       "      <td>NaN</td>\n",
       "    </tr>\n",
       "    <tr>\n",
       "      <th>324</th>\n",
       "      <td>851464819735769094</td>\n",
       "      <td>Twitter for iPhone</td>\n",
       "      <td>This is Iggy. He was a rescue dog killed in th...</td>\n",
       "      <td>https://twitter.com/dog_rates/status/851464819...</td>\n",
       "      <td>14.0</td>\n",
       "      <td>10.0</td>\n",
       "      <td>Iggy</td>\n",
       "      <td>23438</td>\n",
       "      <td>6756</td>\n",
       "      <td>2017-04-10 16:00:07</td>\n",
       "      <td>https://pbs.twimg.com/media/C9ECujZXsAAPCSM.jpg</td>\n",
       "      <td>2</td>\n",
       "      <td>NaN</td>\n",
       "      <td>NaN</td>\n",
       "    </tr>\n",
       "    <tr>\n",
       "      <th>360</th>\n",
       "      <td>841439858740625411</td>\n",
       "      <td>Twitter for iPhone</td>\n",
       "      <td>Here we have some incredible doggos for #K9Vet...</td>\n",
       "      <td>https://twitter.com/dog_rates/status/841439858...</td>\n",
       "      <td>14.0</td>\n",
       "      <td>10.0</td>\n",
       "      <td>NaN</td>\n",
       "      <td>12397</td>\n",
       "      <td>3573</td>\n",
       "      <td>2017-03-14 00:04:30</td>\n",
       "      <td>https://pbs.twimg.com/media/C61lFFiWoAAJdiL.jpg</td>\n",
       "      <td>3</td>\n",
       "      <td>NaN</td>\n",
       "      <td>labrador_retriever</td>\n",
       "    </tr>\n",
       "    <tr>\n",
       "      <th>399</th>\n",
       "      <td>831911600680497154</td>\n",
       "      <td>Twitter for iPhone</td>\n",
       "      <td>Meet Kuyu. He was trapped in a well for 10 day...</td>\n",
       "      <td>https://twitter.com/dog_rates/status/831911600...</td>\n",
       "      <td>14.0</td>\n",
       "      <td>10.0</td>\n",
       "      <td>Kuyu</td>\n",
       "      <td>27273</td>\n",
       "      <td>6389</td>\n",
       "      <td>2017-02-15 17:02:36</td>\n",
       "      <td>https://pbs.twimg.com/media/C4uLLGuUoAAkIHm.jpg</td>\n",
       "      <td>4</td>\n",
       "      <td>NaN</td>\n",
       "      <td>bloodhound</td>\n",
       "    </tr>\n",
       "    <tr>\n",
       "      <th>414</th>\n",
       "      <td>828650029636317184</td>\n",
       "      <td>Twitter for iPhone</td>\n",
       "      <td>Occasionally, we're sent fantastic stories. Th...</td>\n",
       "      <td>https://twitter.com/dog_rates/status/828650029...</td>\n",
       "      <td>14.0</td>\n",
       "      <td>10.0</td>\n",
       "      <td>NaN</td>\n",
       "      <td>9415</td>\n",
       "      <td>1320</td>\n",
       "      <td>2017-02-06 17:02:17</td>\n",
       "      <td>https://pbs.twimg.com/media/C3_0yhCWEAETXj2.jpg</td>\n",
       "      <td>1</td>\n",
       "      <td>NaN</td>\n",
       "      <td>golden_retriever</td>\n",
       "    </tr>\n",
       "    <tr>\n",
       "      <th>448</th>\n",
       "      <td>820314633777061888</td>\n",
       "      <td>Twitter for iPhone</td>\n",
       "      <td>We are proud to support @LoveYourMelon on thei...</td>\n",
       "      <td>https://www.loveyourmelon.com/pages/ourstory,h...</td>\n",
       "      <td>14.0</td>\n",
       "      <td>10.0</td>\n",
       "      <td>NaN</td>\n",
       "      <td>3338</td>\n",
       "      <td>561</td>\n",
       "      <td>2017-01-14 17:00:24</td>\n",
       "      <td>https://pbs.twimg.com/media/C2JXyARUAAE4gbL.jpg</td>\n",
       "      <td>2</td>\n",
       "      <td>NaN</td>\n",
       "      <td>gordon_setter</td>\n",
       "    </tr>\n",
       "    <tr>\n",
       "      <th>478</th>\n",
       "      <td>813812741911748608</td>\n",
       "      <td>Twitter for iPhone</td>\n",
       "      <td>Meet Gary, Carrie Fisher's dog. Idk what I can...</td>\n",
       "      <td>https://twitter.com/dog_rates/status/813812741...</td>\n",
       "      <td>14.0</td>\n",
       "      <td>10.0</td>\n",
       "      <td>Gary</td>\n",
       "      <td>36399</td>\n",
       "      <td>13939</td>\n",
       "      <td>2016-12-27 18:24:12</td>\n",
       "      <td>https://pbs.twimg.com/media/C0s-XtzWgAAp1W-.jpg</td>\n",
       "      <td>1</td>\n",
       "      <td>NaN</td>\n",
       "      <td>french_bulldog</td>\n",
       "    </tr>\n",
       "    <tr>\n",
       "      <th>635</th>\n",
       "      <td>778408200802557953</td>\n",
       "      <td>Twitter for iPhone</td>\n",
       "      <td>RIP Loki. Thank you for the good times. You wi...</td>\n",
       "      <td>https://twitter.com/dog_rates/status/778408200...</td>\n",
       "      <td>14.0</td>\n",
       "      <td>10.0</td>\n",
       "      <td>NaN</td>\n",
       "      <td>13573</td>\n",
       "      <td>4296</td>\n",
       "      <td>2016-09-21 01:39:11</td>\n",
       "      <td>https://pbs.twimg.com/media/Cs12ICuWAAECNRy.jpg</td>\n",
       "      <td>3</td>\n",
       "      <td>NaN</td>\n",
       "      <td>pembroke</td>\n",
       "    </tr>\n",
       "    <tr>\n",
       "      <th>651</th>\n",
       "      <td>774314403806253056</td>\n",
       "      <td>Twitter for iPhone</td>\n",
       "      <td>I WAS SENT THE ACTUAL DOG IN THE PROFILE PIC B...</td>\n",
       "      <td>https://twitter.com/dog_rates/status/774314403...</td>\n",
       "      <td>14.0</td>\n",
       "      <td>10.0</td>\n",
       "      <td>NaN</td>\n",
       "      <td>21630</td>\n",
       "      <td>5474</td>\n",
       "      <td>2016-09-09 18:31:54</td>\n",
       "      <td>https://pbs.twimg.com/media/Cr7q1VxWIAA5Nm7.jpg</td>\n",
       "      <td>3</td>\n",
       "      <td>NaN</td>\n",
       "      <td>eskimo_dog</td>\n",
       "    </tr>\n",
       "    <tr>\n",
       "      <th>708</th>\n",
       "      <td>762035686371364864</td>\n",
       "      <td>Twitter for iPhone</td>\n",
       "      <td>This left me speechless. 14/10 heckin heroic a...</td>\n",
       "      <td>https://twitter.com/dog_rates/status/762035686...</td>\n",
       "      <td>14.0</td>\n",
       "      <td>10.0</td>\n",
       "      <td>NaN</td>\n",
       "      <td>31527</td>\n",
       "      <td>15354</td>\n",
       "      <td>2016-08-06 21:20:40</td>\n",
       "      <td>https://pbs.twimg.com/ext_tw_video_thumb/76203...</td>\n",
       "      <td>1</td>\n",
       "      <td>NaN</td>\n",
       "      <td>NaN</td>\n",
       "    </tr>\n",
       "    <tr>\n",
       "      <th>1733</th>\n",
       "      <td>881536004380872706</td>\n",
       "      <td>Twitter for iPhone</td>\n",
       "      <td>Here is a pupper approaching maximum borkdrive...</td>\n",
       "      <td>https://twitter.com/dog_rates/status/881536004...</td>\n",
       "      <td>14.0</td>\n",
       "      <td>10.0</td>\n",
       "      <td>NaN</td>\n",
       "      <td>45650</td>\n",
       "      <td>14290</td>\n",
       "      <td>2017-07-02 15:32:16</td>\n",
       "      <td>https://pbs.twimg.com/ext_tw_video_thumb/88153...</td>\n",
       "      <td>1</td>\n",
       "      <td>pupper</td>\n",
       "      <td>samoyed</td>\n",
       "    </tr>\n",
       "    <tr>\n",
       "      <th>1739</th>\n",
       "      <td>854120357044912130</td>\n",
       "      <td>Twitter for iPhone</td>\n",
       "      <td>Sometimes you guys remind me just how impactfu...</td>\n",
       "      <td>https://twitter.com/dog_rates/status/854120357...</td>\n",
       "      <td>14.0</td>\n",
       "      <td>10.0</td>\n",
       "      <td>NaN</td>\n",
       "      <td>30696</td>\n",
       "      <td>7070</td>\n",
       "      <td>2017-04-17 23:52:16</td>\n",
       "      <td>https://pbs.twimg.com/media/C9px7jyVwAAnmwN.jpg</td>\n",
       "      <td>4</td>\n",
       "      <td>pupper</td>\n",
       "      <td>black-and-tan_coonhound</td>\n",
       "    </tr>\n",
       "    <tr>\n",
       "      <th>1749</th>\n",
       "      <td>822462944365645825</td>\n",
       "      <td>Twitter for iPhone</td>\n",
       "      <td>This is Gabe. He was the unequivocal embodimen...</td>\n",
       "      <td>https://twitter.com/dog_rates/status/822462944...</td>\n",
       "      <td>14.0</td>\n",
       "      <td>10.0</td>\n",
       "      <td>Gabe</td>\n",
       "      <td>27816</td>\n",
       "      <td>14149</td>\n",
       "      <td>2017-01-20 15:17:01</td>\n",
       "      <td>https://pbs.twimg.com/media/C2n5rUUXEAIXAtv.jpg</td>\n",
       "      <td>3</td>\n",
       "      <td>pupper</td>\n",
       "      <td>pomeranian</td>\n",
       "    </tr>\n",
       "    <tr>\n",
       "      <th>1756</th>\n",
       "      <td>807621403335917568</td>\n",
       "      <td>Twitter for iPhone</td>\n",
       "      <td>This is Ollie Vue. He was a 3 legged pupper on...</td>\n",
       "      <td>https://twitter.com/dog_rates/status/807621403...</td>\n",
       "      <td>14.0</td>\n",
       "      <td>10.0</td>\n",
       "      <td>Ollie</td>\n",
       "      <td>14607</td>\n",
       "      <td>3616</td>\n",
       "      <td>2016-12-10 16:22:02</td>\n",
       "      <td>https://pbs.twimg.com/media/CzU_YVGUUAA3Xsd.jpg</td>\n",
       "      <td>3</td>\n",
       "      <td>pupper</td>\n",
       "      <td>golden_retriever</td>\n",
       "    </tr>\n",
       "    <tr>\n",
       "      <th>1762</th>\n",
       "      <td>794205286408003585</td>\n",
       "      <td>Twitter for iPhone</td>\n",
       "      <td>This is Laika. She was a space pupper. The fir...</td>\n",
       "      <td>https://twitter.com/dog_rates/status/794205286...</td>\n",
       "      <td>14.0</td>\n",
       "      <td>10.0</td>\n",
       "      <td>Laika</td>\n",
       "      <td>9248</td>\n",
       "      <td>3324</td>\n",
       "      <td>2016-11-03 15:51:10</td>\n",
       "      <td>https://pbs.twimg.com/media/CwWVe_3WEAAHAvx.jpg</td>\n",
       "      <td>3</td>\n",
       "      <td>pupper</td>\n",
       "      <td>NaN</td>\n",
       "    </tr>\n",
       "    <tr>\n",
       "      <th>1785</th>\n",
       "      <td>742465774154047488</td>\n",
       "      <td>Twitter for iPhone</td>\n",
       "      <td>Was just informed about this hero pupper and o...</td>\n",
       "      <td>https://twitter.com/dog_rates/status/742465774...</td>\n",
       "      <td>14.0</td>\n",
       "      <td>10.0</td>\n",
       "      <td>NaN</td>\n",
       "      <td>7118</td>\n",
       "      <td>3830</td>\n",
       "      <td>2016-06-13 21:16:49</td>\n",
       "      <td>https://pbs.twimg.com/media/Ck3EribXEAAPhZn.jpg</td>\n",
       "      <td>1</td>\n",
       "      <td>pupper</td>\n",
       "      <td>NaN</td>\n",
       "    </tr>\n",
       "    <tr>\n",
       "      <th>1868</th>\n",
       "      <td>685547936038666240</td>\n",
       "      <td>Twitter for iPhone</td>\n",
       "      <td>Everybody needs to read this. Jack is our firs...</td>\n",
       "      <td>https://twitter.com/dog_rates/status/685547936...</td>\n",
       "      <td>14.0</td>\n",
       "      <td>10.0</td>\n",
       "      <td>NaN</td>\n",
       "      <td>32161</td>\n",
       "      <td>15170</td>\n",
       "      <td>2016-01-08 19:45:39</td>\n",
       "      <td>https://pbs.twimg.com/media/CYOONfZW8AA7IOA.jpg</td>\n",
       "      <td>1</td>\n",
       "      <td>pupper</td>\n",
       "      <td>NaN</td>\n",
       "    </tr>\n",
       "    <tr>\n",
       "      <th>1950</th>\n",
       "      <td>825535076884762624</td>\n",
       "      <td>Twitter for iPhone</td>\n",
       "      <td>Here's a very loving and accepting puppo. Appe...</td>\n",
       "      <td>https://twitter.com/dog_rates/status/825535076...</td>\n",
       "      <td>14.0</td>\n",
       "      <td>10.0</td>\n",
       "      <td>NaN</td>\n",
       "      <td>56457</td>\n",
       "      <td>17385</td>\n",
       "      <td>2017-01-29 02:44:34</td>\n",
       "      <td>https://pbs.twimg.com/media/C3TjvitXAAAI-QH.jpg</td>\n",
       "      <td>1</td>\n",
       "      <td>puppo</td>\n",
       "      <td>rottweiler</td>\n",
       "    </tr>\n",
       "  </tbody>\n",
       "</table>\n",
       "</div>"
      ],
      "text/plain": [
       "                tweet_id              source  \\\n",
       "8     890240255349198849  Twitter for iPhone   \n",
       "18    887517139158093824  Twitter for iPhone   \n",
       "31    884441805382717440  Twitter for iPhone   \n",
       "55    878057613040115712  Twitter for iPhone   \n",
       "79    832273440279240704  Twitter for iPhone   \n",
       "84    828381636999917570  Twitter for iPhone   \n",
       "90    821407182352777218  Twitter for iPhone   \n",
       "93    819006400881917954  Twitter for iPhone   \n",
       "94    819004803107983360  Twitter for iPhone   \n",
       "114   755206590534418437  Twitter for iPhone   \n",
       "261   870063196459192321  Twitter for iPhone   \n",
       "265   868880397819494401  Twitter for iPhone   \n",
       "276   864873206498414592  Twitter for iPhone   \n",
       "282   863079547188785154  Twitter for iPhone   \n",
       "294   860184849394610176  Twitter for iPhone   \n",
       "307   856526610513747968  Twitter for iPhone   \n",
       "308   856282028240666624  Twitter for iPhone   \n",
       "321   852226086759018497  Twitter Web Client   \n",
       "324   851464819735769094  Twitter for iPhone   \n",
       "360   841439858740625411  Twitter for iPhone   \n",
       "399   831911600680497154  Twitter for iPhone   \n",
       "414   828650029636317184  Twitter for iPhone   \n",
       "448   820314633777061888  Twitter for iPhone   \n",
       "478   813812741911748608  Twitter for iPhone   \n",
       "635   778408200802557953  Twitter for iPhone   \n",
       "651   774314403806253056  Twitter for iPhone   \n",
       "708   762035686371364864  Twitter for iPhone   \n",
       "1733  881536004380872706  Twitter for iPhone   \n",
       "1739  854120357044912130  Twitter for iPhone   \n",
       "1749  822462944365645825  Twitter for iPhone   \n",
       "1756  807621403335917568  Twitter for iPhone   \n",
       "1762  794205286408003585  Twitter for iPhone   \n",
       "1785  742465774154047488  Twitter for iPhone   \n",
       "1868  685547936038666240  Twitter for iPhone   \n",
       "1950  825535076884762624  Twitter for iPhone   \n",
       "\n",
       "                                                   text  \\\n",
       "8     This is Cassie. She is a college pup. Studying...   \n",
       "18    I've yet to rate a Venezuelan Hover Wiener. Th...   \n",
       "31    I present to you, Pup in Hat. Pup in Hat is gr...   \n",
       "55    This is Emmy. She was adopted today. Massive r...   \n",
       "79    Say hello to Smiley. He's a blind therapy dogg...   \n",
       "84    Meet Doobert. He's a deaf doggo. Didn't stop h...   \n",
       "90    This is Sundance. He's a doggo drummer. Even s...   \n",
       "93    This is Sunny. She was also a very good First ...   \n",
       "94    This is Bo. He was a very good First Doggo. 14...   \n",
       "114   This is one of the most inspirational stories ...   \n",
       "261   Meet Clifford. He's quite large. Also red. Goo...   \n",
       "265   This is Walter. He won't start hydrotherapy wi...   \n",
       "276   We only rate dogs. Please don't send in Jesus....   \n",
       "282   Ladies and gentlemen... I found Pipsy. He may ...   \n",
       "294   Here we have perhaps the wisest dog of all. Ab...   \n",
       "307   THIS IS CHARLIE, MARK. HE DID JUST WANT TO SAY...   \n",
       "308   This is Cermet, Paesh, and Morple. They are ab...   \n",
       "321   Meet General. He wasn't content with the quali...   \n",
       "324   This is Iggy. He was a rescue dog killed in th...   \n",
       "360   Here we have some incredible doggos for #K9Vet...   \n",
       "399   Meet Kuyu. He was trapped in a well for 10 day...   \n",
       "414   Occasionally, we're sent fantastic stories. Th...   \n",
       "448   We are proud to support @LoveYourMelon on thei...   \n",
       "478   Meet Gary, Carrie Fisher's dog. Idk what I can...   \n",
       "635   RIP Loki. Thank you for the good times. You wi...   \n",
       "651   I WAS SENT THE ACTUAL DOG IN THE PROFILE PIC B...   \n",
       "708   This left me speechless. 14/10 heckin heroic a...   \n",
       "1733  Here is a pupper approaching maximum borkdrive...   \n",
       "1739  Sometimes you guys remind me just how impactfu...   \n",
       "1749  This is Gabe. He was the unequivocal embodimen...   \n",
       "1756  This is Ollie Vue. He was a 3 legged pupper on...   \n",
       "1762  This is Laika. She was a space pupper. The fir...   \n",
       "1785  Was just informed about this hero pupper and o...   \n",
       "1868  Everybody needs to read this. Jack is our firs...   \n",
       "1950  Here's a very loving and accepting puppo. Appe...   \n",
       "\n",
       "                                          expanded_urls  rating_numerator  \\\n",
       "8     https://twitter.com/dog_rates/status/890240255...              14.0   \n",
       "18    https://twitter.com/dog_rates/status/887517139...              14.0   \n",
       "31    https://twitter.com/dog_rates/status/884441805...              14.0   \n",
       "55    https://twitter.com/dog_rates/status/878057613...              14.0   \n",
       "79    https://twitter.com/dog_rates/status/832273440...              14.0   \n",
       "84    https://twitter.com/dog_rates/status/828381636...              14.0   \n",
       "90    https://twitter.com/dog_rates/status/821407182...              14.0   \n",
       "93    https://twitter.com/dog_rates/status/819006400...              14.0   \n",
       "94    https://twitter.com/dog_rates/status/819004803...              14.0   \n",
       "114   https://twitter.com/dog_rates/status/755206590...              14.0   \n",
       "261   https://twitter.com/dog_rates/status/870063196...              14.0   \n",
       "265   https://twitter.com/dog_rates/status/868880397...              14.0   \n",
       "276   https://twitter.com/dog_rates/status/864873206...              14.0   \n",
       "282   https://twitter.com/dog_rates/status/863079547...              14.0   \n",
       "294   https://twitter.com/dog_rates/status/860184849...              14.0   \n",
       "307   https://twitter.com/dog_rates/status/856526610...              14.0   \n",
       "308   https://twitter.com/dog_rates/status/856282028...              14.0   \n",
       "321   https://twitter.com/dog_rates/status/852226086...              14.0   \n",
       "324   https://twitter.com/dog_rates/status/851464819...              14.0   \n",
       "360   https://twitter.com/dog_rates/status/841439858...              14.0   \n",
       "399   https://twitter.com/dog_rates/status/831911600...              14.0   \n",
       "414   https://twitter.com/dog_rates/status/828650029...              14.0   \n",
       "448   https://www.loveyourmelon.com/pages/ourstory,h...              14.0   \n",
       "478   https://twitter.com/dog_rates/status/813812741...              14.0   \n",
       "635   https://twitter.com/dog_rates/status/778408200...              14.0   \n",
       "651   https://twitter.com/dog_rates/status/774314403...              14.0   \n",
       "708   https://twitter.com/dog_rates/status/762035686...              14.0   \n",
       "1733  https://twitter.com/dog_rates/status/881536004...              14.0   \n",
       "1739  https://twitter.com/dog_rates/status/854120357...              14.0   \n",
       "1749  https://twitter.com/dog_rates/status/822462944...              14.0   \n",
       "1756  https://twitter.com/dog_rates/status/807621403...              14.0   \n",
       "1762  https://twitter.com/dog_rates/status/794205286...              14.0   \n",
       "1785  https://twitter.com/dog_rates/status/742465774...              14.0   \n",
       "1868  https://twitter.com/dog_rates/status/685547936...              14.0   \n",
       "1950  https://twitter.com/dog_rates/status/825535076...              14.0   \n",
       "\n",
       "      rating_denominator      name  favorites  retweets            date_time  \\\n",
       "8                   10.0    Cassie      29380      6536  2017-07-26 15:59:51   \n",
       "18                  10.0       NaN      42769     10517  2017-07-19 03:39:09   \n",
       "31                  10.0       NaN      24986      5080  2017-07-10 15:58:53   \n",
       "55                  10.0      Emmy      38901      6080  2017-06-23 01:10:23   \n",
       "79                  10.0    Smiley      11213      2294  2017-02-16 17:00:25   \n",
       "84                  10.0   Doobert      12478      2188  2017-02-05 23:15:47   \n",
       "90                  10.0  Sundance      11704      4303  2017-01-17 17:21:47   \n",
       "93                  10.0     Sunny      45138     18884  2017-01-11 02:21:57   \n",
       "94                  10.0        Bo      86681     36678  2017-01-11 02:15:36   \n",
       "114                 10.0       NaN      16215      5276  2016-07-19 01:04:16   \n",
       "261                 10.0  Clifford      34047      7540  2017-05-31 23:43:25   \n",
       "265                 10.0    Walter      61009     13119  2017-05-28 17:23:24   \n",
       "276                 10.0       NaN      30259      7968  2017-05-17 16:00:15   \n",
       "282                 10.0       NaN       8254      1023  2017-05-12 17:12:53   \n",
       "294                 10.0       NaN      15748      5428  2017-05-04 17:30:24   \n",
       "307                 10.0       NaN      11317      1770  2017-04-24 15:13:52   \n",
       "308                 10.0    Cermet      26476      5907  2017-04-23 23:01:59   \n",
       "321                 10.0   General      19309      6541  2017-04-12 18:25:07   \n",
       "324                 10.0      Iggy      23438      6756  2017-04-10 16:00:07   \n",
       "360                 10.0       NaN      12397      3573  2017-03-14 00:04:30   \n",
       "399                 10.0      Kuyu      27273      6389  2017-02-15 17:02:36   \n",
       "414                 10.0       NaN       9415      1320  2017-02-06 17:02:17   \n",
       "448                 10.0       NaN       3338       561  2017-01-14 17:00:24   \n",
       "478                 10.0      Gary      36399     13939  2016-12-27 18:24:12   \n",
       "635                 10.0       NaN      13573      4296  2016-09-21 01:39:11   \n",
       "651                 10.0       NaN      21630      5474  2016-09-09 18:31:54   \n",
       "708                 10.0       NaN      31527     15354  2016-08-06 21:20:40   \n",
       "1733                10.0       NaN      45650     14290  2017-07-02 15:32:16   \n",
       "1739                10.0       NaN      30696      7070  2017-04-17 23:52:16   \n",
       "1749                10.0      Gabe      27816     14149  2017-01-20 15:17:01   \n",
       "1756                10.0     Ollie      14607      3616  2016-12-10 16:22:02   \n",
       "1762                10.0     Laika       9248      3324  2016-11-03 15:51:10   \n",
       "1785                10.0       NaN       7118      3830  2016-06-13 21:16:49   \n",
       "1868                10.0       NaN      32161     15170  2016-01-08 19:45:39   \n",
       "1950                10.0       NaN      56457     17385  2017-01-29 02:44:34   \n",
       "\n",
       "                                                jpg_url  img_num  \\\n",
       "8       https://pbs.twimg.com/media/DFrEyVuW0AAO3t9.jpg        1   \n",
       "18    https://pbs.twimg.com/ext_tw_video_thumb/88751...        1   \n",
       "31      https://pbs.twimg.com/media/DEYrIZwWsAA2Wo5.jpg        1   \n",
       "55      https://pbs.twimg.com/media/DC98vABUIAA97pz.jpg        1   \n",
       "79    https://pbs.twimg.com/ext_tw_video_thumb/83227...        1   \n",
       "84      https://pbs.twimg.com/media/C38Asz1WEAAvzj3.jpg        1   \n",
       "90    https://pbs.twimg.com/ext_tw_video_thumb/82140...        1   \n",
       "93      https://pbs.twimg.com/media/C12x-JTVIAAzdfl.jpg        4   \n",
       "94      https://pbs.twimg.com/media/C12whDoVEAALRxa.jpg        1   \n",
       "114     https://pbs.twimg.com/media/CnsIT0WWcAAul8V.jpg        1   \n",
       "261     https://pbs.twimg.com/media/DBMV3NnXUAAm0Pp.jpg        1   \n",
       "265     https://pbs.twimg.com/media/DA7iHL5U0AA1OQo.jpg        1   \n",
       "276     https://pbs.twimg.com/media/DAClmHkXcAA1kSv.jpg        2   \n",
       "282     https://pbs.twimg.com/media/C_pGRInUwAAmTY_.jpg        1   \n",
       "294     https://pbs.twimg.com/media/C-_9jWWUwAAnwkd.jpg        1   \n",
       "307     https://pbs.twimg.com/media/C-L-aIYXgAIR0jY.jpg        1   \n",
       "308     https://pbs.twimg.com/media/C-If9ZwXoAAfDX2.jpg        4   \n",
       "321   https://pbs.twimg.com/ext_tw_video_thumb/85222...        1   \n",
       "324     https://pbs.twimg.com/media/C9ECujZXsAAPCSM.jpg        2   \n",
       "360     https://pbs.twimg.com/media/C61lFFiWoAAJdiL.jpg        3   \n",
       "399     https://pbs.twimg.com/media/C4uLLGuUoAAkIHm.jpg        4   \n",
       "414     https://pbs.twimg.com/media/C3_0yhCWEAETXj2.jpg        1   \n",
       "448     https://pbs.twimg.com/media/C2JXyARUAAE4gbL.jpg        2   \n",
       "478     https://pbs.twimg.com/media/C0s-XtzWgAAp1W-.jpg        1   \n",
       "635     https://pbs.twimg.com/media/Cs12ICuWAAECNRy.jpg        3   \n",
       "651     https://pbs.twimg.com/media/Cr7q1VxWIAA5Nm7.jpg        3   \n",
       "708   https://pbs.twimg.com/ext_tw_video_thumb/76203...        1   \n",
       "1733  https://pbs.twimg.com/ext_tw_video_thumb/88153...        1   \n",
       "1739    https://pbs.twimg.com/media/C9px7jyVwAAnmwN.jpg        4   \n",
       "1749    https://pbs.twimg.com/media/C2n5rUUXEAIXAtv.jpg        3   \n",
       "1756    https://pbs.twimg.com/media/CzU_YVGUUAA3Xsd.jpg        3   \n",
       "1762    https://pbs.twimg.com/media/CwWVe_3WEAAHAvx.jpg        3   \n",
       "1785    https://pbs.twimg.com/media/Ck3EribXEAAPhZn.jpg        1   \n",
       "1868    https://pbs.twimg.com/media/CYOONfZW8AA7IOA.jpg        1   \n",
       "1950    https://pbs.twimg.com/media/C3TjvitXAAAI-QH.jpg        1   \n",
       "\n",
       "     dog_description                dog_breed  \n",
       "8              doggo                 pembroke  \n",
       "18               NaN                      NaN  \n",
       "31               NaN                 pembroke  \n",
       "55               NaN           french_bulldog  \n",
       "79             doggo                 pembroke  \n",
       "84             doggo       bedlington_terrier  \n",
       "90             doggo             irish_setter  \n",
       "93             doggo                      NaN  \n",
       "94             doggo          standard_poodle  \n",
       "114            doggo                      NaN  \n",
       "261              NaN                      NaN  \n",
       "265              NaN           french_bulldog  \n",
       "276              NaN                      NaN  \n",
       "282              NaN         lakeland_terrier  \n",
       "294              NaN                      NaN  \n",
       "307              NaN     old_english_sheepdog  \n",
       "308              NaN                chihuahua  \n",
       "321              NaN                      NaN  \n",
       "324              NaN                      NaN  \n",
       "360              NaN       labrador_retriever  \n",
       "399              NaN               bloodhound  \n",
       "414              NaN         golden_retriever  \n",
       "448              NaN            gordon_setter  \n",
       "478              NaN           french_bulldog  \n",
       "635              NaN                 pembroke  \n",
       "651              NaN               eskimo_dog  \n",
       "708              NaN                      NaN  \n",
       "1733          pupper                  samoyed  \n",
       "1739          pupper  black-and-tan_coonhound  \n",
       "1749          pupper               pomeranian  \n",
       "1756          pupper         golden_retriever  \n",
       "1762          pupper                      NaN  \n",
       "1785          pupper                      NaN  \n",
       "1868          pupper                      NaN  \n",
       "1950           puppo               rottweiler  "
      ]
     },
     "execution_count": 173,
     "metadata": {},
     "output_type": "execute_result"
    }
   ],
   "source": [
    "twitter_archive_master[twitter_archive_master['rating_numerator'] == 14.0]"
   ]
  },
  {
   "cell_type": "markdown",
   "metadata": {},
   "source": [
    "**Although this doggo 'only' received a rating of 13 as opposed to the highest rating in this dataframe, 14, this doggo is certainly the people's champion with the most retweets and favorites!**"
   ]
  },
  {
   "cell_type": "markdown",
   "metadata": {},
   "source": [
    "<blockquote class=\"twitter-tweet\"><p lang=\"en\" dir=\"ltr\">Here&#39;s a doggo realizing you can stand in a pool. 13/10 enlightened af (vid by Tina Conrad) <a href=\"https://t.co/7wE9LTEXC4\">pic.twitter.com/7wE9LTEXC4</a></p>&mdash; WeRateDogs® (@dog_rates) <a href=\"https://twitter.com/dog_rates/status/744234799360020481?ref_src=twsrc%5Etfw\">June 18, 2016</a></blockquote> <script async src=\"https://platform.twitter.com/widgets.js\" charset=\"utf-8\"></script>"
   ]
  }
 ],
 "metadata": {
  "kernelspec": {
   "display_name": "Python 3",
   "language": "python",
   "name": "python3"
  },
  "language_info": {
   "codemirror_mode": {
    "name": "ipython",
    "version": 3
   },
   "file_extension": ".py",
   "mimetype": "text/x-python",
   "name": "python",
   "nbconvert_exporter": "python",
   "pygments_lexer": "ipython3",
   "version": "3.7.6"
  }
 },
 "nbformat": 4,
 "nbformat_minor": 4
}
